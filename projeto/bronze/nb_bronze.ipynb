{
 "cells": [
  {
   "cell_type": "code",
   "execution_count": 0,
   "metadata": {
    "application/vnd.databricks.v1+cell": {
     "cellMetadata": {
      "byteLimit": 2048000,
      "rowLimit": 10000
     },
     "inputWidgets": {},
     "nuid": "e51b2e25-a1d2-4fb9-bf99-58c476c48721",
     "showTitle": false,
     "tableResultSettingsMap": {},
     "title": ""
    }
   },
   "outputs": [],
   "source": [
    "from pyspark.sql import functions as f\n",
    "from pyspark.sql.types import *\n",
    "from datetime import datetime\n",
    "import pytz\n",
    "import re"
   ]
  },
  {
   "cell_type": "code",
   "execution_count": 0,
   "metadata": {
    "application/vnd.databricks.v1+cell": {
     "cellMetadata": {
      "byteLimit": 2048000,
      "rowLimit": 10000
     },
     "inputWidgets": {},
     "nuid": "0b237c2c-78e0-487c-927a-6d90c92a81fa",
     "showTitle": false,
     "tableResultSettingsMap": {},
     "title": ""
    }
   },
   "outputs": [],
   "source": [
    "%run ../structs/nb_schemas"
   ]
  },
  {
   "cell_type": "code",
   "execution_count": 0,
   "metadata": {
    "application/vnd.databricks.v1+cell": {
     "cellMetadata": {
      "byteLimit": 2048000,
      "rowLimit": 10000
     },
     "inputWidgets": {},
     "nuid": "5fa38c10-63ed-4808-a225-ead7cec64b71",
     "showTitle": false,
     "tableResultSettingsMap": {},
     "title": ""
    }
   },
   "outputs": [],
   "source": [
    "\n",
    "schema_config = _schemas[dbutils.widgets.get(\"ingestion_object\")]\n",
    "\n",
    "schema = schema_config[\"schema\"]\n",
    "params = schema_config[\"parameters\"]\n",
    "\n",
    "src_api                 = params[\"src_api\"]\n",
    "src_api_dataset         = params[\"src_api_dataset\"]\n",
    "src_file_name_contains  = params[\"src_file_name_contains\"]\n",
    "src_file_format         = params[\"src_file_format\"]\n",
    "\n",
    "dest_catalog_name       = params[\"dest_catalog_name\"]\n",
    "dest_schema_name        = params[\"dest_schema_name\"]\n",
    "dest_table_name         = params[\"dest_table_name\"]\n",
    "\n",
    "\n",
    "print(f\"\"\"schema: {schema}\"\"\")\n",
    "print()\n",
    "\n",
    "print(f\"\"\"src_api:                  '{src_api}'\"\"\")\n",
    "print(f\"\"\"src_api_dataset:          '{src_api_dataset}'\"\"\")\n",
    "print(f\"\"\"src_file_name_contains:   '{src_file_name_contains}'\"\"\")\n",
    "print(f\"\"\"src_file_format:          '{src_file_format}'\"\"\")\n",
    "print()\n",
    "print(f\"\"\"dest_catalog_name:        '{dest_catalog_name}'\"\"\")\n",
    "print(f\"\"\"dest_schema_name:         '{dest_schema_name}'\"\"\")\n",
    "print(f\"\"\"dest_table_name:          '{dest_table_name}'\"\"\")\n"
   ]
  },
  {
   "cell_type": "code",
   "execution_count": 0,
   "metadata": {
    "application/vnd.databricks.v1+cell": {
     "cellMetadata": {
      "byteLimit": 2048000,
      "rowLimit": 10000
     },
     "inputWidgets": {},
     "nuid": "0fb5c0b7-fb6d-41d7-8622-d2fcc6061e52",
     "showTitle": false,
     "tableResultSettingsMap": {},
     "title": ""
    }
   },
   "outputs": [],
   "source": [
    "ingestion_timestamp = datetime.now(pytz.timezone('America/Sao_Paulo')).strftime('%Y%m%d%H%M%S')\n",
    "print(f\"\"\"ingestion_timestamp: {ingestion_timestamp}\"\"\")\n",
    "print(type(ingestion_timestamp))"
   ]
  },
  {
   "cell_type": "code",
   "execution_count": 0,
   "metadata": {
    "application/vnd.databricks.v1+cell": {
     "cellMetadata": {
      "byteLimit": 2048000,
      "rowLimit": 10000
     },
     "inputWidgets": {},
     "nuid": "04347496-ad31-472a-82f3-1d65a6ee1bef",
     "showTitle": false,
     "tableResultSettingsMap": {},
     "title": ""
    }
   },
   "outputs": [],
   "source": [
    "for file in dbutils.fs.ls('/Volumes/workspace/default/landing_zone/'):\n",
    "    if file.name.__contains__(src_file_name_contains):\n",
    "        source_file = file.path.replace(\"dbfs:\",\"\")\n",
    "        print(source_file)"
   ]
  },
  {
   "cell_type": "code",
   "execution_count": 0,
   "metadata": {
    "application/vnd.databricks.v1+cell": {
     "cellMetadata": {
      "byteLimit": 2048000,
      "rowLimit": 10000
     },
     "inputWidgets": {},
     "nuid": "d0af8bed-bb48-4e80-9626-4359607df21e",
     "showTitle": false,
     "tableResultSettingsMap": {},
     "title": ""
    }
   },
   "outputs": [],
   "source": [
    "df = (\n",
    "    spark\n",
    "    .read\n",
    "    .format(src_file_format)\n",
    "    .option('sep', ',')\n",
    "    .option('header', 'true')\n",
    "    .schema(schema)\n",
    "    .load(source_file)\n",
    ")\n",
    "\n",
    "for col_name in df.columns:\n",
    "    new_name = re.sub(r\"[ ,;{}\\(\\)\\n\\t=]\", \"_\", col_name.lower())\n",
    "    if col_name != new_name:\n",
    "        df = df.withColumnRenamed(col_name, new_name)\n",
    "\n",
    "df = df.withColumn(\"ingestion_timestamp\", f.lit(ingestion_timestamp).cast(\"long\"))\n",
    "\n",
    "# Exibe os primeiros registros\n",
    "# display(df.limit(10))"
   ]
  },
  {
   "cell_type": "code",
   "execution_count": 0,
   "metadata": {
    "application/vnd.databricks.v1+cell": {
     "cellMetadata": {
      "byteLimit": 2048000,
      "rowLimit": 10000
     },
     "inputWidgets": {},
     "nuid": "c7bca994-21f6-4fc9-9eae-99992eb88e54",
     "showTitle": false,
     "tableResultSettingsMap": {},
     "title": ""
    }
   },
   "outputs": [],
   "source": [
    "spark.sql(f\"CREATE CATALOG if NOT EXISTS {dest_catalog_name}\")"
   ]
  },
  {
   "cell_type": "code",
   "execution_count": 0,
   "metadata": {
    "application/vnd.databricks.v1+cell": {
     "cellMetadata": {
      "byteLimit": 2048000,
      "rowLimit": 10000
     },
     "inputWidgets": {},
     "nuid": "280e8927-7c0a-4b0e-ad2c-87a126558044",
     "showTitle": false,
     "tableResultSettingsMap": {},
     "title": ""
    }
   },
   "outputs": [],
   "source": [
    "spark.sql(f\"CREATE SCHEMA if not EXISTS {dest_catalog_name}.{dest_schema_name}\")"
   ]
  },
  {
   "cell_type": "code",
   "execution_count": 0,
   "metadata": {
    "application/vnd.databricks.v1+cell": {
     "cellMetadata": {
      "byteLimit": 2048000,
      "rowLimit": 10000
     },
     "inputWidgets": {},
     "nuid": "2dcc8b29-fa13-4e49-b1e4-1c85afdc7856",
     "showTitle": false,
     "tableResultSettingsMap": {},
     "title": ""
    }
   },
   "outputs": [],
   "source": [
    "(\n",
    "    df\n",
    "    .write\n",
    "    .format(\"delta\")\n",
    "    .mode(\"append\")\n",
    "    .saveAsTable(f\"{dest_catalog_name}.{dest_schema_name}.{dest_table_name}\")\n",
    ")"
   ]
  },
  {
   "cell_type": "code",
   "execution_count": 0,
   "metadata": {
    "application/vnd.databricks.v1+cell": {
     "cellMetadata": {
      "byteLimit": 2048000,
      "rowLimit": 10000
     },
     "inputWidgets": {},
     "nuid": "048fb6ae-1660-4cff-b762-7c50f80477c9",
     "showTitle": false,
     "tableResultSettingsMap": {},
     "title": ""
    }
   },
   "outputs": [],
   "source": [
    "# display(\n",
    "#   spark\n",
    "#   .table(f\"{dest_catalog_name}.{dest_schema_name}.{dest_table_name}\")\n",
    "#   .limit(10)\n",
    "# )"
   ]
  },
  {
   "cell_type": "code",
   "execution_count": 0,
   "metadata": {
    "application/vnd.databricks.v1+cell": {
     "cellMetadata": {
      "byteLimit": 2048000,
      "rowLimit": 10000
     },
     "inputWidgets": {},
     "nuid": "47324f8c-dc18-4cfe-820b-56533f08a7eb",
     "showTitle": false,
     "tableResultSettingsMap": {},
     "title": ""
    }
   },
   "outputs": [],
   "source": [
    "#remove source file\n",
    "#dbutils.fs.rm(source_file)\n"
   ]
  },
  {
   "cell_type": "code",
   "execution_count": 0,
   "metadata": {
    "application/vnd.databricks.v1+cell": {
     "cellMetadata": {
      "byteLimit": 2048000,
      "rowLimit": 10000
     },
     "inputWidgets": {},
     "nuid": "e817f13a-330c-4bdc-b054-9f44e2e1c3db",
     "showTitle": false,
     "tableResultSettingsMap": {},
     "title": ""
    }
   },
   "outputs": [],
   "source": [
    "#spark.sql( 'DROP TABLE IF EXISTS bronze.ingestion.video_games_sales' )"
   ]
  }
 ],
 "metadata": {
  "application/vnd.databricks.v1+notebook": {
   "computePreferences": null,
   "dashboards": [],
   "environmentMetadata": {
    "base_environment": "",
    "environment_version": "2"
   },
   "inputWidgetPreferences": null,
   "language": "python",
   "notebookMetadata": {
    "mostRecentlyExecutedCommandWithImplicitDF": {
     "commandId": 8580149900704640,
     "dataframes": [
      "_sqldf"
     ]
    },
    "pythonIndentUnit": 4
   },
   "notebookName": "nb_bronze",
   "widgets": {}
  },
  "language_info": {
   "name": "python"
  }
 },
 "nbformat": 4,
 "nbformat_minor": 0
}
