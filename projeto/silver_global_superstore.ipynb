{
 "cells": [
  {
   "cell_type": "code",
   "execution_count": 0,
   "metadata": {
    "application/vnd.databricks.v1+cell": {
     "cellMetadata": {
      "byteLimit": 2048000,
      "rowLimit": 10000
     },
     "inputWidgets": {},
     "nuid": "e51b2e25-a1d2-4fb9-bf99-58c476c48721",
     "showTitle": false,
     "tableResultSettingsMap": {},
     "title": ""
    }
   },
   "outputs": [],
   "source": [
    "from pyspark.sql import functions as f\n",
    "from pyspark.sql.types import *\n",
    "import re"
   ]
  },
  {
   "cell_type": "code",
   "execution_count": 0,
   "metadata": {
    "application/vnd.databricks.v1+cell": {
     "cellMetadata": {
      "byteLimit": 2048000,
      "rowLimit": 10000
     },
     "inputWidgets": {},
     "nuid": "7339ff0a-360b-4a00-8dff-fb430fd9840d",
     "showTitle": false,
     "tableResultSettingsMap": {},
     "title": ""
    }
   },
   "outputs": [],
   "source": [
    "%run ./schemas"
   ]
  },
  {
   "cell_type": "code",
   "execution_count": 0,
   "metadata": {
    "application/vnd.databricks.v1+cell": {
     "cellMetadata": {
      "byteLimit": 2048000,
      "rowLimit": 10000
     },
     "inputWidgets": {},
     "nuid": "1aa97314-2c92-46d7-855d-0b1b692516a3",
     "showTitle": false,
     "tableResultSettingsMap": {},
     "title": ""
    }
   },
   "outputs": [],
   "source": [
    "\n",
    "schema_config = _schemas[\"global-super-store-dataset\"]\n",
    "params = schema_config[\"parameters\"]\n",
    "\n",
    "src_catalog_name       = params[\"dest_catalog_name\"]\n",
    "src_schema_name        = params[\"dest_schema_name\"]\n",
    "src_table_name         = params[\"dest_table_name\"]\n",
    "\n",
    "dest_catalog_name       = params[\"dest_catalog_name\"].replace(\"bronze\",\"silver\")\n",
    "dest_schema_name        = params[\"dest_schema_name\"].replace(\"ingestion\",\"refined\")\n",
    "dest_table_name         = params[\"dest_table_name\"]\n",
    "\n",
    "print()\n",
    "print(f\"\"\"src_catalog_name:         '{src_catalog_name}'\"\"\")\n",
    "print(f\"\"\"src_schema_name:          '{src_schema_name}'\"\"\")\n",
    "print(f\"\"\"src_table_name:           '{src_table_name}'\"\"\")\n",
    "print()\n",
    "print(f\"\"\"dest_catalog_name:        '{dest_catalog_name}'\"\"\")\n",
    "print(f\"\"\"dest_schema_name:         '{dest_schema_name}'\"\"\")\n",
    "print(f\"\"\"dest_table_name:          '{dest_table_name}'\"\"\")\n"
   ]
  },
  {
   "cell_type": "code",
   "execution_count": 0,
   "metadata": {
    "application/vnd.databricks.v1+cell": {
     "cellMetadata": {
      "byteLimit": 2048000,
      "rowLimit": 10000
     },
     "inputWidgets": {},
     "nuid": "e57fddc6-659d-4f23-bca6-4db0697ab1a8",
     "showTitle": false,
     "tableResultSettingsMap": {},
     "title": ""
    }
   },
   "outputs": [],
   "source": [
    "spark.sql(f\"CREATE CATALOG if NOT EXISTS {dest_catalog_name}\")"
   ]
  },
  {
   "cell_type": "code",
   "execution_count": 0,
   "metadata": {
    "application/vnd.databricks.v1+cell": {
     "cellMetadata": {
      "byteLimit": 2048000,
      "rowLimit": 10000
     },
     "inputWidgets": {},
     "nuid": "93e9fff1-66b9-4fbb-a4ca-4df33ab89b10",
     "showTitle": false,
     "tableResultSettingsMap": {},
     "title": ""
    }
   },
   "outputs": [],
   "source": [
    "spark.sql(f\"CREATE SCHEMA if NOT EXISTS {dest_catalog_name}.{dest_schema_name}\")"
   ]
  },
  {
   "cell_type": "code",
   "execution_count": 0,
   "metadata": {
    "application/vnd.databricks.v1+cell": {
     "cellMetadata": {
      "byteLimit": 2048000,
      "rowLimit": 10000
     },
     "inputWidgets": {},
     "nuid": "3286a438-df6e-48f8-ab3f-9184f67e5d2c",
     "showTitle": false,
     "tableResultSettingsMap": {},
     "title": ""
    }
   },
   "outputs": [],
   "source": [
    "filter_max = (\n",
    "    spark\n",
    "    .table(f\"{src_catalog_name}.{src_schema_name}.{src_table_name}\")\n",
    "    .select(f.max(\"ingestion_timestamp\"))\n",
    "    .collect()[0][0]\n",
    ")\n",
    "print(f\"\"\" > filter_max: {filter_max}\"\"\")\n"
   ]
  },
  {
   "cell_type": "code",
   "execution_count": 0,
   "metadata": {
    "application/vnd.databricks.v1+cell": {
     "cellMetadata": {
      "byteLimit": 2048000,
      "rowLimit": 10000
     },
     "inputWidgets": {},
     "nuid": "d0af8bed-bb48-4e80-9626-4359607df21e",
     "showTitle": false,
     "tableResultSettingsMap": {},
     "title": ""
    }
   },
   "outputs": [],
   "source": [
    "df = (\n",
    "    spark\n",
    "    .table(f\"{src_catalog_name}.{src_schema_name}.{src_table_name}\")\n",
    "    .filter(f\"\"\"ingestion_timestamp = {filter_max}\"\"\")\n",
    ")"
   ]
  },
  {
   "cell_type": "code",
   "execution_count": 0,
   "metadata": {
    "application/vnd.databricks.v1+cell": {
     "cellMetadata": {
      "byteLimit": 2048000,
      "rowLimit": 10000
     },
     "inputWidgets": {},
     "nuid": "56077994-cea6-4816-92d4-241bf1bec770",
     "showTitle": false,
     "tableResultSettingsMap": {},
     "title": ""
    }
   },
   "outputs": [],
   "source": [
    "cols_date = ['order_date', 'ship_date']\n",
    "for col in cols_date:\n",
    "    df = df.withColumn(col, f.trim(f.to_date(f.col(col), 'dd-MM-yyyy')))\n",
    "for col in cols_date:\n",
    "    df = (\n",
    "        df\n",
    "        .withColumn(\n",
    "            col,\n",
    "            f.when(\n",
    "                f.col(col).isNull(), f.lit('1900-01-01').cast('date')\n",
    "            )\n",
    "            .otherwise(f.col(col))\n",
    "        )\n",
    "    )"
   ]
  },
  {
   "cell_type": "code",
   "execution_count": 0,
   "metadata": {
    "application/vnd.databricks.v1+cell": {
     "cellMetadata": {
      "byteLimit": 2048000,
      "rowLimit": 10000
     },
     "inputWidgets": {},
     "nuid": "9cef5ff8-70d6-4208-ac26-649c2ff15432",
     "showTitle": false,
     "tableResultSettingsMap": {},
     "title": ""
    }
   },
   "outputs": [],
   "source": [
    "cols_int = ['row_id']\n",
    "for col in cols_int:\n",
    "    df = df.withColumn(col, f.col(col).cast('int'))\n",
    "for col in cols_int:\n",
    "    df = (\n",
    "        df\n",
    "        .withColumn(\n",
    "            col,\n",
    "            f.when(\n",
    "                f.col(col).isNull(), f.lit(0).cast('int')\n",
    "            )\n",
    "            .otherwise(f.col(col))\n",
    "        )\n",
    "    )"
   ]
  },
  {
   "cell_type": "code",
   "execution_count": 0,
   "metadata": {
    "application/vnd.databricks.v1+cell": {
     "cellMetadata": {
      "byteLimit": 2048000,
      "rowLimit": 10000
     },
     "inputWidgets": {},
     "nuid": "fbb2632b-faf2-4d34-a2db-c41ce13d5e26",
     "showTitle": false,
     "tableResultSettingsMap": {},
     "title": ""
    }
   },
   "outputs": [],
   "source": [
    "cols_decimal = ['quantity', 'discount', 'profit', 'shipping_cost']\n",
    "for col in cols_decimal:\n",
    "    df = df.withColumn(col, f.col(col).cast('decimal(12,2)'))\n",
    "for col in cols_decimal:\n",
    "    df = (\n",
    "        df\n",
    "        .withColumn(\n",
    "            col,\n",
    "            f.when(\n",
    "                f.col(col).isNull(), f.lit(0.00).cast('decimal(12,2)')\n",
    "            )\n",
    "            .otherwise(f.col(col))\n",
    "        )\n",
    "    )"
   ]
  },
  {
   "cell_type": "code",
   "execution_count": 0,
   "metadata": {
    "application/vnd.databricks.v1+cell": {
     "cellMetadata": {
      "byteLimit": 2048000,
      "rowLimit": 10000
     },
     "inputWidgets": {},
     "nuid": "e13e0cb8-d6c0-48e4-b570-34820c317ab2",
     "showTitle": false,
     "tableResultSettingsMap": {},
     "title": ""
    }
   },
   "outputs": [],
   "source": [
    "# Remove da coluna sales os registros que não são numéricos, ha uma infinidade de registros com esse valor tipo string nao numerica\n",
    "# Ha necessidade de correcao do no sistema de origem.\n",
    "sales_regex_clean = r'^-?\\d+(\\.\\d+)?$'\n",
    "df = (\n",
    "    df\n",
    "    .filter(f.col(\"sales\").rlike(sales_regex_clean))\n",
    "    .withColumn('sales', f.col('sales').cast('decimal(12,2)'))\n",
    ")"
   ]
  },
  {
   "cell_type": "code",
   "execution_count": 0,
   "metadata": {
    "application/vnd.databricks.v1+cell": {
     "cellMetadata": {
      "byteLimit": 2048000,
      "rowLimit": 10000
     },
     "inputWidgets": {},
     "nuid": "e882c13c-7751-477b-b2e2-b06e75010016",
     "showTitle": false,
     "tableResultSettingsMap": {},
     "title": ""
    }
   },
   "outputs": [],
   "source": [
    "# Trata valores nulos das colunas do tipo String setando como 'N/A'\n",
    "# Trata strings com blank space nas estremidades da sentenca\n",
    "for col in df.dtypes:\n",
    "    if col[1] == 'string':\n",
    "        df = (\n",
    "            df\n",
    "            .withColumn(\n",
    "                col[0], \n",
    "                f.when(\n",
    "                    f.col(col[0]).isNull(), f.lit('N/A')\n",
    "                )\n",
    "                .otherwise(f.trim(f.col(col[0])))\n",
    "            )\n",
    "        )\n",
    "\n",
    "# display(df)"
   ]
  },
  {
   "cell_type": "code",
   "execution_count": 0,
   "metadata": {
    "application/vnd.databricks.v1+cell": {
     "cellMetadata": {
      "byteLimit": 2048000,
      "rowLimit": 10000
     },
     "inputWidgets": {},
     "nuid": "2dcc8b29-fa13-4e49-b1e4-1c85afdc7856",
     "showTitle": false,
     "tableResultSettingsMap": {},
     "title": ""
    }
   },
   "outputs": [],
   "source": [
    "(\n",
    "    df\n",
    "    .write\n",
    "    .format(\"delta\")\n",
    "    .mode(\"overwrite\")\n",
    "    .saveAsTable(f\"{dest_catalog_name}.{dest_schema_name}.{dest_table_name}\")\n",
    ")\n"
   ]
  },
  {
   "cell_type": "code",
   "execution_count": 0,
   "metadata": {
    "application/vnd.databricks.v1+cell": {
     "cellMetadata": {
      "byteLimit": 2048000,
      "rowLimit": 10000
     },
     "inputWidgets": {},
     "nuid": "048fb6ae-1660-4cff-b762-7c50f80477c9",
     "showTitle": false,
     "tableResultSettingsMap": {},
     "title": ""
    }
   },
   "outputs": [],
   "source": [
    "# display(\n",
    "#   spark\n",
    "#   .table(f\"{dest_catalog_name}.{dest_schema_name}.{dest_table_name}\")\n",
    "#   .limit(10)\n",
    "# )"
   ]
  }
 ],
 "metadata": {
  "application/vnd.databricks.v1+notebook": {
   "computePreferences": null,
   "dashboards": [],
   "environmentMetadata": {
    "base_environment": "",
    "environment_version": "2"
   },
   "inputWidgetPreferences": null,
   "language": "python",
   "notebookMetadata": {
    "mostRecentlyExecutedCommandWithImplicitDF": {
     "commandId": 7029652542106163,
     "dataframes": [
      "_sqldf"
     ]
    },
    "pythonIndentUnit": 4
   },
   "notebookName": "silver_global_superstore",
   "widgets": {}
  },
  "language_info": {
   "name": "python"
  }
 },
 "nbformat": 4,
 "nbformat_minor": 0
}
