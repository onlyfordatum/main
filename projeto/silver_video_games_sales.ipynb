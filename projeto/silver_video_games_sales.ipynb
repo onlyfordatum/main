{
 "cells": [
  {
   "cell_type": "code",
   "execution_count": 0,
   "metadata": {
    "application/vnd.databricks.v1+cell": {
     "cellMetadata": {
      "byteLimit": 2048000,
      "rowLimit": 10000
     },
     "inputWidgets": {},
     "nuid": "e51b2e25-a1d2-4fb9-bf99-58c476c48721",
     "showTitle": false,
     "tableResultSettingsMap": {},
     "title": ""
    }
   },
   "outputs": [],
   "source": [
    "from pyspark.sql import functions as f\n",
    "from pyspark.sql.types import *"
   ]
  },
  {
   "cell_type": "code",
   "execution_count": 0,
   "metadata": {
    "application/vnd.databricks.v1+cell": {
     "cellMetadata": {
      "byteLimit": 2048000,
      "rowLimit": 10000
     },
     "inputWidgets": {},
     "nuid": "34b06818-0e21-4ef3-b2b8-76ec0675be5c",
     "showTitle": false,
     "tableResultSettingsMap": {},
     "title": ""
    }
   },
   "outputs": [],
   "source": [
    "source_catalog_name   = 'bronze'\n",
    "source_database_name  = 'ingestion'\n",
    "source_table_name     = 'video_games_sales'\n",
    "\n",
    "dest_catalog_name    = 'silver'\n",
    "dest_database_name   = 'refined'\n",
    "dest_table_name      = 'video_games_sales'\n",
    "\n",
    "\n",
    "print(f\"\"\" > source_catalog_name:  {source_catalog_name}\"\"\")\n",
    "print(f\"\"\" > source_database_name: {source_database_name}\"\"\")\n",
    "print(f\"\"\" > source_table_name:    {source_table_name}\"\"\")\n",
    "print()\n",
    "print(f\"\"\" > dest_catalog_name:    {dest_catalog_name}\"\"\")\n",
    "print(f\"\"\" > dest_database_name:   {dest_database_name}\"\"\")\n",
    "print(f\"\"\" > dest_table_name:      {dest_table_name}\"\"\")"
   ]
  },
  {
   "cell_type": "code",
   "execution_count": 0,
   "metadata": {
    "application/vnd.databricks.v1+cell": {
     "cellMetadata": {
      "byteLimit": 2048000,
      "rowLimit": 10000
     },
     "inputWidgets": {},
     "nuid": "e57fddc6-659d-4f23-bca6-4db0697ab1a8",
     "showTitle": false,
     "tableResultSettingsMap": {},
     "title": ""
    }
   },
   "outputs": [],
   "source": [
    "spark.sql(f\"CREATE CATALOG if NOT EXISTS {dest_catalog_name}\")"
   ]
  },
  {
   "cell_type": "code",
   "execution_count": 0,
   "metadata": {
    "application/vnd.databricks.v1+cell": {
     "cellMetadata": {
      "byteLimit": 2048000,
      "rowLimit": 10000
     },
     "inputWidgets": {},
     "nuid": "93e9fff1-66b9-4fbb-a4ca-4df33ab89b10",
     "showTitle": false,
     "tableResultSettingsMap": {},
     "title": ""
    }
   },
   "outputs": [],
   "source": [
    "spark.sql(f\"CREATE SCHEMA if NOT EXISTS {dest_catalog_name}.{dest_database_name}\")"
   ]
  },
  {
   "cell_type": "code",
   "execution_count": 0,
   "metadata": {
    "application/vnd.databricks.v1+cell": {
     "cellMetadata": {
      "byteLimit": 2048000,
      "rowLimit": 10000
     },
     "inputWidgets": {},
     "nuid": "3286a438-df6e-48f8-ab3f-9184f67e5d2c",
     "showTitle": false,
     "tableResultSettingsMap": {},
     "title": ""
    }
   },
   "outputs": [],
   "source": [
    "filter_max = (\n",
    "    spark\n",
    "    .table(f\"{source_catalog_name}.{source_database_name}.{source_table_name}\")\n",
    "    .select(f.max(\"ingestion_timestamp\"))\n",
    "    .collect()[0][0]\n",
    ")\n",
    "print(f\"\"\" > filter_max: {filter_max}\"\"\")\n"
   ]
  },
  {
   "cell_type": "code",
   "execution_count": 0,
   "metadata": {
    "application/vnd.databricks.v1+cell": {
     "cellMetadata": {
      "byteLimit": 2048000,
      "rowLimit": 10000
     },
     "inputWidgets": {},
     "nuid": "d0af8bed-bb48-4e80-9626-4359607df21e",
     "showTitle": false,
     "tableResultSettingsMap": {},
     "title": ""
    }
   },
   "outputs": [],
   "source": [
    "df = (\n",
    "    spark\n",
    "    .table(f\"{source_catalog_name}.{source_database_name}.{source_table_name}\")\n",
    "    .filter(f\"ingestion_timestamp = {filter_max}\")\n",
    ")"
   ]
  },
  {
   "cell_type": "code",
   "execution_count": 0,
   "metadata": {
    "application/vnd.databricks.v1+cell": {
     "cellMetadata": {
      "byteLimit": 2048000,
      "rowLimit": 10000
     },
     "inputWidgets": {},
     "nuid": "9f6cae05-9cf5-4109-9806-87664023f72e",
     "showTitle": false,
     "tableResultSettingsMap": {},
     "title": ""
    }
   },
   "outputs": [],
   "source": [
    "df = (\n",
    "    df.withColumn(\n",
    "        \"Year_of_Release\",\n",
    "        f.when(f.col(\"Year_of_Release\").rlike(\"^[0-9]+$\"), f.col(\"Year_of_Release\"))\n",
    "        .otherwise(\"1900\")\n",
    "        .cast(\"int\"),\n",
    "    )\n",
    "    .withColumn(\"NA_Sales\", f.col(\"NA_Sales\").cast(\"decimal(10,2)\"))\n",
    "    .withColumn(\"EU_Sales\", f.col(\"EU_Sales\").cast(\"decimal(10,2)\"))\n",
    "    .withColumn(\"JP_Sales\", f.col(\"JP_Sales\").cast(\"decimal(10,2)\"))\n",
    "    .withColumn(\"Global_Sales\", f.col(\"Global_Sales\").cast(\"decimal(10,2)\"))\n",
    "    .withColumn(\n",
    "        \"Critic_Score\",\n",
    "        f.when(f.col(\"Critic_Score\").isNull(), 0)\n",
    "        .otherwise(f.col(\"Critic_Score\"))\n",
    "        .cast(\"int\"),\n",
    "    )\n",
    "    .withColumn(\n",
    "        \"Critic_Count\",\n",
    "        f.when(f.col(\"Critic_Count\").isNull(), 0)\n",
    "        .otherwise(f.col(\"Critic_Count\"))\n",
    "        .cast(\"int\"),\n",
    "    )\n",
    "    .withColumn(\"Other_Sales\", f.col(\"Other_Sales\").cast(\"decimal(10,2)\"))\n",
    "    .withColumn(\n",
    "        \"User_Score\",\n",
    "        f.when(\n",
    "            (f.col(\"User_Score\").isNull())\n",
    "            | (f.col(\"User_Score\").rlike(\"^[0-9]+(\\\\.[0-9]+)?$\") == False),\n",
    "            f.lit(\"0\"),\n",
    "        )\n",
    "        .otherwise(f.col(\"User_Score\"))\n",
    "        .cast(\"decimal(10,2)\"),\n",
    "    )\n",
    "    .withColumn(\n",
    "        \"User_Count\",\n",
    "        f.when(f.col(\"User_Count\").isNull(), 0)\n",
    "        .otherwise(f.col(\"User_Count\"))\n",
    "        .cast(\"int\"),\n",
    "    )\n",
    "    .withColumn(\n",
    "        \"Developer\",\n",
    "        f.when(f.col(\"Developer\").isNull(), f.lit(\"N/A\")).otherwise(f.col(\"Developer\")),\n",
    "    )\n",
    "    .withColumn(\n",
    "        \"Rating\",\n",
    "        f.when(f.col(\"Rating\").isNull(), f.lit(\"N/A\")).otherwise(f.col(\"Rating\")),\n",
    "    )\n",
    "    .withColumn(\n",
    "        \"Name\", f.when(f.col(\"Name\").isNull(), f.lit(\"N/A\")).otherwise(f.col(\"Name\"))\n",
    "    )\n",
    "    .withColumn(\n",
    "        \"Genre\", f.when(f.col(\"Genre\").isNull(), f.lit(\"N/A\")).otherwise(f.col(\"Genre\"))\n",
    "    )\n",
    ")"
   ]
  },
  {
   "cell_type": "code",
   "execution_count": 0,
   "metadata": {
    "application/vnd.databricks.v1+cell": {
     "cellMetadata": {
      "byteLimit": 2048000,
      "rowLimit": 10000
     },
     "inputWidgets": {},
     "nuid": "2dcc8b29-fa13-4e49-b1e4-1c85afdc7856",
     "showTitle": false,
     "tableResultSettingsMap": {},
     "title": ""
    }
   },
   "outputs": [],
   "source": [
    "(\n",
    "    df\n",
    "    .write\n",
    "    .format(\"delta\")\n",
    "    .mode(\"overwrite\")\n",
    "    .saveAsTable(f\"{dest_catalog_name}.{dest_database_name}.{dest_table_name}\")\n",
    ")\n"
   ]
  },
  {
   "cell_type": "code",
   "execution_count": 0,
   "metadata": {
    "application/vnd.databricks.v1+cell": {
     "cellMetadata": {
      "byteLimit": 2048000,
      "rowLimit": 10000
     },
     "inputWidgets": {},
     "nuid": "048fb6ae-1660-4cff-b762-7c50f80477c9",
     "showTitle": false,
     "tableResultSettingsMap": {},
     "title": ""
    }
   },
   "outputs": [],
   "source": [
    "display(\n",
    "  spark\n",
    "  .table(f\"{dest_catalog_name}.{dest_database_name}.{dest_table_name}\")\n",
    "  .limit(10)\n",
    ")"
   ]
  }
 ],
 "metadata": {
  "application/vnd.databricks.v1+notebook": {
   "computePreferences": null,
   "dashboards": [],
   "environmentMetadata": {
    "base_environment": "",
    "environment_version": "2"
   },
   "inputWidgetPreferences": null,
   "language": "python",
   "notebookMetadata": {
    "mostRecentlyExecutedCommandWithImplicitDF": {
     "commandId": 8580149900704640,
     "dataframes": [
      "_sqldf"
     ]
    },
    "pythonIndentUnit": 4
   },
   "notebookName": "silver_video_games_sales",
   "widgets": {}
  },
  "language_info": {
   "name": "python"
  }
 },
 "nbformat": 4,
 "nbformat_minor": 0
}
