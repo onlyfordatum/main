{
 "cells": [
  {
   "cell_type": "code",
   "execution_count": 0,
   "metadata": {
    "application/vnd.databricks.v1+cell": {
     "cellMetadata": {
      "byteLimit": 2048000,
      "rowLimit": 10000
     },
     "inputWidgets": {},
     "nuid": "e51b2e25-a1d2-4fb9-bf99-58c476c48721",
     "showTitle": false,
     "tableResultSettingsMap": {},
     "title": ""
    }
   },
   "outputs": [],
   "source": [
    "from pyspark.sql import functions as f\n",
    "from pyspark.sql.types import *\n",
    "from pyspark.sql import Window as Window\n",
    "import re\n",
    "import time"
   ]
  },
  {
   "cell_type": "code",
   "execution_count": 0,
   "metadata": {
    "application/vnd.databricks.v1+cell": {
     "cellMetadata": {
      "byteLimit": 2048000,
      "rowLimit": 10000
     },
     "inputWidgets": {},
     "nuid": "976146dc-1e12-4252-8e94-b4e68668ee98",
     "showTitle": false,
     "tableResultSettingsMap": {},
     "title": ""
    }
   },
   "outputs": [],
   "source": [
    "%run ./../../ingestion/structs/nb_schemas"
   ]
  },
  {
   "cell_type": "code",
   "execution_count": 0,
   "metadata": {
    "application/vnd.databricks.v1+cell": {
     "cellMetadata": {
      "byteLimit": 2048000,
      "rowLimit": 10000
     },
     "inputWidgets": {},
     "nuid": "04424a5b-cc48-413a-8f16-f2df21ef76d6",
     "showTitle": false,
     "tableResultSettingsMap": {},
     "title": ""
    }
   },
   "outputs": [],
   "source": [
    "# Parâmetros de entrada para a tabela Silver\n",
    "src_catalog_name    = 'silver'\n",
    "src_schema_name     = 'refined'\n",
    "src_table_name      = 'global_superstore'\n",
    "\n",
    "# Parâmetros da camada Gold\n",
    "gold_catalog_name   = 'gold'\n",
    "gold_schema_name    = 'analytics'\n",
    "gold_table_prefix   = 'global_superstore'\n",
    "\n",
    "gold_parquet_tables = '/Volumes/gold/analytics/parquets_files'"
   ]
  },
  {
   "cell_type": "code",
   "execution_count": 0,
   "metadata": {
    "application/vnd.databricks.v1+cell": {
     "cellMetadata": {
      "byteLimit": 2048000,
      "rowLimit": 10000
     },
     "inputWidgets": {},
     "nuid": "011835be-af80-4b23-a259-38c278412a09",
     "showTitle": false,
     "tableResultSettingsMap": {},
     "title": ""
    }
   },
   "outputs": [],
   "source": [
    "\n",
    "table_path = f\"{src_catalog_name}.{src_schema_name}.{src_table_name}\"\n",
    "spark.sql(f\"CREATE CATALOG IF NOT EXISTS {gold_catalog_name}\")\n",
    "spark.sql(f\"CREATE SCHEMA IF NOT EXISTS {gold_catalog_name}.{gold_schema_name}\")\n",
    "spark.sql(f\"CREATE VOLUME IF NOT EXISTS {gold_catalog_name}.{gold_schema_name}.parquets_files\")\n",
    "df = spark.read.table(table_path)"
   ]
  },
  {
   "cell_type": "code",
   "execution_count": 0,
   "metadata": {
    "application/vnd.databricks.v1+cell": {
     "cellMetadata": {
      "byteLimit": 2048000,
      "rowLimit": 10000
     },
     "inputWidgets": {},
     "nuid": "a8d72af6-0e59-429c-b003-01fb1dd3c167",
     "showTitle": false,
     "tableResultSettingsMap": {},
     "title": ""
    }
   },
   "outputs": [],
   "source": [
    "df = spark.read.table(table_path)"
   ]
  },
  {
   "cell_type": "markdown",
   "metadata": {
    "application/vnd.databricks.v1+cell": {
     "cellMetadata": {
      "byteLimit": 2048000,
      "rowLimit": 10000
     },
     "inputWidgets": {},
     "nuid": "b3192bd0-6044-4192-8067-fe4727496625",
     "showTitle": false,
     "tableResultSettingsMap": {},
     "title": ""
    }
   },
   "source": [
    "#### Evolução anual das vendas, quantidades vendidas e preço médio por transação. "
   ]
  },
  {
   "cell_type": "code",
   "execution_count": 0,
   "metadata": {
    "application/vnd.databricks.v1+cell": {
     "cellMetadata": {
      "byteLimit": 2048000,
      "rowLimit": 10000
     },
     "inputWidgets": {},
     "nuid": "4a8fca77-2a2c-4632-9a59-cb5542b666b1",
     "showTitle": false,
     "tableResultSettingsMap": {},
     "title": ""
    }
   },
   "outputs": [],
   "source": [
    "### Adicione uma coluna calculada, por exemplo, o valor total de cada transação.\n",
    "total_order_value = (\n",
    "    df\n",
    "    .groupBy('order_id')\n",
    "    .agg(\n",
    "        f.sum(f.col('sales')).cast('decimal(12,2)').alias('total_order_value')\n",
    "    )\n",
    ")\n",
    "\n",
    "(\n",
    "    total_order_value\n",
    "    .write\n",
    "    .format('delta')\n",
    "    .mode(\"overwrite\")\n",
    "    .saveAsTable(f\"{gold_catalog_name}.{gold_schema_name}.{gold_table_prefix}_total_order_value\")\n",
    ")\n",
    "\n",
    "time.sleep(0.1)\n",
    "\n",
    "(\n",
    "    total_order_value\n",
    "    .coalesce(1)\n",
    "    .write\n",
    "    .format('parquet')\n",
    "    .mode(\"overwrite\")\n",
    "    .save(f\"{gold_parquet_tables}/total_order_value\")\n",
    ")\n"
   ]
  },
  {
   "cell_type": "markdown",
   "metadata": {
    "application/vnd.databricks.v1+cell": {
     "cellMetadata": {
      "byteLimit": 2048000,
      "rowLimit": 10000
     },
     "inputWidgets": {},
     "nuid": "d4696591-5693-4194-a758-ef82153d38aa",
     "showTitle": false,
     "tableResultSettingsMap": {},
     "title": ""
    }
   },
   "source": [
    "#### Consulta: Métricas Anuais por produto"
   ]
  },
  {
   "cell_type": "code",
   "execution_count": 0,
   "metadata": {
    "application/vnd.databricks.v1+cell": {
     "cellMetadata": {
      "byteLimit": 2048000,
      "rowLimit": 10000
     },
     "inputWidgets": {},
     "nuid": "8f920c29-8c38-42c4-942c-fcdac7c699fd",
     "showTitle": false,
     "tableResultSettingsMap": {},
     "title": ""
    }
   },
   "outputs": [],
   "source": [
    "# 1. Consulta: Métricas Anuais por produto\n",
    "df_annual = (\n",
    "    df\n",
    "    .withColumn(\"year\", f.year(f.col(\"order_date\")))\n",
    "    .groupBy(\"year\", 'product_id')\n",
    "    .agg(\n",
    "        f.round(f.sum(\"sales\"), 2).alias(\"total_sales\"),\n",
    "        f.sum(\"quantity\").alias(\"total_quantity\"),\n",
    "        f.round(f.avg(\"sales\"), 2).alias(\"avg_sales\")\n",
    "    )\n",
    "    .orderBy(\"year\")\n",
    ")\n",
    "    \n",
    "(\n",
    "    df_annual\n",
    "    .write\n",
    "    .mode(\"overwrite\")\n",
    "    .option('overwriteSchema', True)\n",
    "    .saveAsTable(f\"{gold_catalog_name}.{gold_schema_name}.{gold_table_prefix}_annual_metrics\")\n",
    ")\n",
    "\n",
    "time.sleep(0.1)\n",
    "\n",
    "(\n",
    "    df_annual\n",
    "    .coalesce(1)\n",
    "    .write\n",
    "    .format('parquet')\n",
    "    .partitionBy('year')\n",
    "    .mode(\"overwrite\")\n",
    "    .save(f\"{gold_parquet_tables}/annual_metrics\")\n",
    ")"
   ]
  },
  {
   "cell_type": "code",
   "execution_count": 0,
   "metadata": {
    "application/vnd.databricks.v1+cell": {
     "cellMetadata": {
      "byteLimit": 2048000,
      "rowLimit": 10000
     },
     "inputWidgets": {},
     "nuid": "9389b0fa-1327-45b2-b75f-8580d1cb4cdd",
     "showTitle": false,
     "tableResultSettingsMap": {},
     "title": ""
    }
   },
   "outputs": [],
   "source": [
    "# Agregue os dados para obter estatísticas de vendas, por exemplo, o total de vendas por\n",
    "# produto ou por categoria\n",
    "\n",
    "df_category = (\n",
    "    df\n",
    "    .groupBy('category', f.substring(f.col('order_date'), 1, 7).alias('month'))\n",
    "    .agg(\n",
    "        f.sum(\"sales\").alias(\"total_sales\")\n",
    "    )\n",
    ")\n",
    "\n",
    "(\n",
    "    df_category\n",
    "    .write\n",
    "    .mode(\"overwrite\")\n",
    "    .option('overwriteSchema', True)\n",
    "    .saveAsTable(f\"{gold_catalog_name}.{gold_schema_name}.{gold_table_prefix}_category\")\n",
    ")\n",
    "\n",
    "\n",
    "time.sleep(0.1)\n",
    "\n",
    "(\n",
    "    df_category\n",
    "    .coalesce(1)\n",
    "    .write\n",
    "    .format('parquet')\n",
    "    .partitionBy('month')\n",
    "    .mode(\"overwrite\")\n",
    "    .save(f\"{gold_parquet_tables}/category\")\n",
    ")"
   ]
  }
 ],
 "metadata": {
  "application/vnd.databricks.v1+notebook": {
   "computePreferences": null,
   "dashboards": [],
   "environmentMetadata": {
    "base_environment": "",
    "environment_version": "2"
   },
   "inputWidgetPreferences": null,
   "language": "python",
   "notebookMetadata": {
    "mostRecentlyExecutedCommandWithImplicitDF": {
     "commandId": 5813956873002001,
     "dataframes": [
      "_sqldf"
     ]
    },
    "pythonIndentUnit": 4
   },
   "notebookName": "(bkp) gold_global_superstore",
   "widgets": {}
  },
  "language_info": {
   "name": "python"
  }
 },
 "nbformat": 4,
 "nbformat_minor": 0
}
