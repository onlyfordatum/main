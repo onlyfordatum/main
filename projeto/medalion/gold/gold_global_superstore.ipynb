{
 "cells": [
  {
   "cell_type": "code",
   "execution_count": 0,
   "metadata": {
    "application/vnd.databricks.v1+cell": {
     "cellMetadata": {
      "byteLimit": 2048000,
      "rowLimit": 10000
     },
     "inputWidgets": {},
     "nuid": "e51b2e25-a1d2-4fb9-bf99-58c476c48721",
     "showTitle": false,
     "tableResultSettingsMap": {},
     "title": ""
    }
   },
   "outputs": [],
   "source": [
    "from pyspark.sql import functions as f\n",
    "from pyspark.sql.types import *\n",
    "from pyspark.storagelevel import StorageLevel\n",
    "from pyspark.sql.functions import col, year, quarter, when, sum, avg, round, count\n",
    "import re"
   ]
  },
  {
   "cell_type": "code",
   "execution_count": 0,
   "metadata": {
    "application/vnd.databricks.v1+cell": {
     "cellMetadata": {
      "byteLimit": 2048000,
      "rowLimit": 10000
     },
     "inputWidgets": {},
     "nuid": "976146dc-1e12-4252-8e94-b4e68668ee98",
     "showTitle": false,
     "tableResultSettingsMap": {},
     "title": ""
    }
   },
   "outputs": [],
   "source": [
    "%run ../structs/nb_schemas"
   ]
  },
  {
   "cell_type": "code",
   "execution_count": 0,
   "metadata": {
    "application/vnd.databricks.v1+cell": {
     "cellMetadata": {
      "byteLimit": 2048000,
      "rowLimit": 10000
     },
     "inputWidgets": {},
     "nuid": "34b06818-0e21-4ef3-b2b8-76ec0675be5c",
     "showTitle": false,
     "tableResultSettingsMap": {},
     "title": ""
    }
   },
   "outputs": [],
   "source": [
    "# ingestion_objects = [\n",
    "#     'global-super-store-dataset'\n",
    "# ]\n",
    "\n",
    "# _schemas = {\n",
    "#     \"global-super-store-dataset\": {\n",
    "#         \"schema\": StructType([StructField('Row ID', StringType(), True), StructField('Order ID', StringType(), True), StructField('Order Date', StringType(), True), StructField('Ship Date', StringType(), True), StructField('Ship Mode', StringType(), True), StructField('Customer ID', StringType(), True), StructField('Customer Name', StringType(), True), StructField('Segment', StringType(), True), StructField('City', StringType(), True), StructField('State', StringType(), True), StructField('Country', StringType(), True), StructField('Postal Code', StringType(), True), StructField('Market', StringType(), True), StructField('Region', StringType(), True), StructField('Product ID', StringType(), True), StructField('Category', StringType(), True), StructField('Sub-Category', StringType(), True), StructField('Product Name', StringType(), True), StructField('Sales', StringType(), True), StructField('Quantity', StringType(), True), StructField('Discount', StringType(), True), StructField('Profit', StringType(), True), StructField('Shipping Cost', StringType(), True), StructField('Order Priority', StringType(), True)]),\n",
    "#         \"parameters\": {\n",
    "#             \"src_api\": \"kaggle\",\n",
    "#             \"src_api_dataset\": \"apoorvaappz/global-super-store-dataset\",\n",
    "#             \"src_file_name_contains\": \"Global_Superstore2.csv\",\n",
    "#             \"src_file_format\": \"csv\",\n",
    "#             \"dest_catalog_name\": \"silver\",\n",
    "#             \"dest_schema_name\": \"refined\",\n",
    "#             \"dest_table_name\": \"Global_Superstore\".lower()\n",
    "#         },\n",
    "#     }\n",
    "# }\n",
    "\n",
    "# # schema_config = _schemas[dbutils.widgets.get(\"ingestion_object\")]\n",
    "# schema_config = _schemas\n",
    "# params = schema_config[\"global-super-store-dataset\"][\"parameters\"]\n",
    "\n",
    "# src_catalog_name       = params[\"dest_catalog_name\"]\n",
    "# src_schema_name        = params[\"dest_schema_name\"]\n",
    "# src_table_name         = params[\"dest_table_name\"]\n",
    "\n",
    "# dest_catalog_name       = params[\"dest_catalog_name\"].replace(\"silver\",\"gold\")\n",
    "# dest_schema_name        = params[\"dest_schema_name\"].replace(\"refined\",\"analytics\")\n",
    "# dest_table_name         = params[\"dest_table_name\"]\n",
    "# dest_table_name = dest_table_name + \"_\"\n",
    "\n",
    "# # Definir caminho para a camada Gold\n",
    "# gold_catalog_name = dest_catalog_name #'gold'\n",
    "# gold_schema_name  = dest_schema_name  #'analytics'\n",
    "# gold_table_prefix = dest_table_name   #'global_superstore_'\n",
    "\n",
    "# print()\n",
    "# print(f\"\"\"src_catalog_name:         '{src_catalog_name}'\"\"\")\n",
    "# print(f\"\"\"src_schema_name:          '{src_schema_name}'\"\"\")\n",
    "# print(f\"\"\"src_table_name:           '{src_table_name}'\"\"\")\n",
    "# print()\n",
    "# print(f\"\"\"dest_catalog_name:        '{gold_catalog_name}'\"\"\")\n",
    "# print(f\"\"\"dest_schema_name:         '{gold_schema_name}'\"\"\")\n",
    "# print(f\"\"\"dest_table_name:          '{gold_table_prefix}'\"\"\")\n"
   ]
  },
  {
   "cell_type": "code",
   "execution_count": 0,
   "metadata": {
    "application/vnd.databricks.v1+cell": {
     "cellMetadata": {
      "byteLimit": 2048000,
      "rowLimit": 10000
     },
     "inputWidgets": {},
     "nuid": "7e961d1c-ec85-42e2-ac56-e0e62cd2ab6b",
     "showTitle": false,
     "tableResultSettingsMap": {},
     "title": ""
    }
   },
   "outputs": [],
   "source": [
    "\n",
    "# spark.sql(f\"DROP CATALOG IF EXISTS gold CASCADE\")\n",
    "# spark.sql(f\"DROP SCHEMA IF EXISTS gold.analytics CASCADE\")\n",
    "\n",
    "# spark.sql(f\"CREATE CATALOG if NOT EXISTS {dest_catalog_name}\")\n",
    "# spark.sql(f\"CREATE SCHEMA if NOT EXISTS {dest_catalog_name}.{dest_table_name}\")"
   ]
  },
  {
   "cell_type": "code",
   "execution_count": 0,
   "metadata": {
    "application/vnd.databricks.v1+cell": {
     "cellMetadata": {
      "byteLimit": 2048000,
      "rowLimit": 10000
     },
     "inputWidgets": {},
     "nuid": "5f668e6c-036a-4159-b499-35dc9d38d141",
     "showTitle": false,
     "tableResultSettingsMap": {},
     "title": ""
    }
   },
   "outputs": [],
   "source": [
    "# Inicializar Spark Session\n",
    "spark = SparkSession.builder.appName(\"GlobalSuperstoreAnalysis\").getOrCreate()"
   ]
  },
  {
   "cell_type": "code",
   "execution_count": 0,
   "metadata": {
    "application/vnd.databricks.v1+cell": {
     "cellMetadata": {
      "byteLimit": 2048000,
      "rowLimit": 10000
     },
     "inputWidgets": {},
     "nuid": "04424a5b-cc48-413a-8f16-f2df21ef76d6",
     "showTitle": false,
     "tableResultSettingsMap": {},
     "title": ""
    }
   },
   "outputs": [],
   "source": [
    "# Parâmetros de entrada para a tabela Silver\n",
    "src_catalog_name = 'silver'\n",
    "src_schema_name = 'refined'\n",
    "src_table_name = 'global_superstore'\n",
    "\n",
    "# Parâmetros da camada Gold\n",
    "gold_catalog_name = 'gold'\n",
    "gold_schema_name = 'analytics'\n",
    "gold_table_prefix = 'global_superstore_'"
   ]
  },
  {
   "cell_type": "code",
   "execution_count": 0,
   "metadata": {
    "application/vnd.databricks.v1+cell": {
     "cellMetadata": {
      "byteLimit": 2048000,
      "rowLimit": 10000
     },
     "inputWidgets": {},
     "nuid": "011835be-af80-4b23-a259-38c278412a09",
     "showTitle": false,
     "tableResultSettingsMap": {},
     "title": ""
    }
   },
   "outputs": [],
   "source": [
    "# Caminho completo da tabela Silver\n",
    "table_path = f\"{src_catalog_name}.{src_schema_name}.{src_table_name}\"\n",
    "\n",
    "# Excluir o schema analytics no catálogo gold, se existir\n",
    "spark.sql(f\"DROP SCHEMA IF EXISTS {gold_catalog_name}.{gold_schema_name} CASCADE\")\n",
    "\n",
    "# Criar catálogo gold se não existir\n",
    "spark.sql(f\"CREATE CATALOG IF NOT EXISTS {gold_catalog_name}\")\n",
    "\n",
    "# Criar schema analytics no catálogo gold\n",
    "spark.sql(f\"CREATE SCHEMA IF NOT EXISTS {gold_catalog_name}.{gold_schema_name}\")\n",
    "\n",
    "# Carregar os dados da camada Silver\n",
    "df = spark.read.table(table_path)"
   ]
  },
  {
   "cell_type": "code",
   "execution_count": 0,
   "metadata": {
    "application/vnd.databricks.v1+cell": {
     "cellMetadata": {},
     "inputWidgets": {},
     "nuid": "a8d72af6-0e59-429c-b003-01fb1dd3c167",
     "showTitle": false,
     "tableResultSettingsMap": {},
     "title": ""
    }
   },
   "outputs": [],
   "source": [
    "# Carregar os dados da camada Silver\n",
    "df = spark.read.table(table_path)\n",
    "\n",
    "# Verificar se a coluna order_date existe e é do tipo DateType\n",
    "if 'order_date' not in df.columns:\n",
    "    raise ValueError(\"Coluna 'order_date' não encontrada no DataFrame\")\n",
    "if df.schema['order_date'].dataType.typeName() != 'date':\n",
    "    raise ValueError(\"Coluna 'order_date' deve ser do tipo DateType\")"
   ]
  },
  {
   "cell_type": "markdown",
   "metadata": {
    "application/vnd.databricks.v1+cell": {
     "cellMetadata": {},
     "inputWidgets": {},
     "nuid": "e3727175-b1d0-4192-ad6a-194d64e89a0c",
     "showTitle": false,
     "tableResultSettingsMap": {},
     "title": ""
    }
   },
   "source": [
    "Evolução anual das vendas, quantidades vendidas e preço médio por transação. \n",
    "\n"
   ]
  },
  {
   "cell_type": "code",
   "execution_count": 0,
   "metadata": {
    "application/vnd.databricks.v1+cell": {
     "cellMetadata": {
      "byteLimit": 2048000,
      "rowLimit": 10000
     },
     "inputWidgets": {},
     "nuid": "8f920c29-8c38-42c4-942c-fcdac7c699fd",
     "showTitle": false,
     "tableResultSettingsMap": {},
     "title": ""
    }
   },
   "outputs": [],
   "source": [
    "# 1. Consulta: Métricas Anuais\n",
    "df_annual = df.withColumn(\"year\", year(col(\"order_date\"))) \\\n",
    "    .groupBy(\"year\").agg(\n",
    "        round(sum(\"sales\"), 2).alias(\"total_sales\"),\n",
    "        sum(\"quantity\").alias(\"total_quantity\"),\n",
    "        round(avg(\"sales\"), 2).alias(\"avg_sales\")\n",
    "    ).orderBy(\"year\")\n",
    "    \n",
    "df_annual.write.mode(\"overwrite\").saveAsTable(f\"{gold_catalog_name}.{gold_schema_name}.{gold_table_prefix}annual_metrics\")\n",
    "\n",
    "print(f\"Tabela {gold_catalog_name}.{gold_schema_name}.{gold_table_prefix}annual_metrics criada com sucesso!\")\n"
   ]
  },
  {
   "cell_type": "markdown",
   "metadata": {
    "application/vnd.databricks.v1+cell": {
     "cellMetadata": {},
     "inputWidgets": {},
     "nuid": "9b81d24b-f48f-4fa2-a096-e6a5dbd56b60",
     "showTitle": false,
     "tableResultSettingsMap": {},
     "title": ""
    }
   },
   "source": [
    "Analisa a sazonalidade das vendas e quantidades vendidas por trimestre, permitindo identificar períodos de maior ou menor desempenho dentro de cada ano."
   ]
  },
  {
   "cell_type": "code",
   "execution_count": 0,
   "metadata": {
    "application/vnd.databricks.v1+cell": {
     "cellMetadata": {
      "byteLimit": 2048000,
      "rowLimit": 10000
     },
     "inputWidgets": {},
     "nuid": "191003ac-6ca7-42fd-8f4a-5dd646f3728f",
     "showTitle": false,
     "tableResultSettingsMap": {},
     "title": ""
    }
   },
   "outputs": [],
   "source": [
    "# 2. Consulta: Métricas Trimestrais\n",
    "df_quarterly = df.withColumn(\"year\", year(col(\"order_date\"))) \\\n",
    "    .withColumn(\"quarter\", quarter(col(\"order_date\"))) \\\n",
    "    .groupBy(\"year\", \"quarter\").agg(\n",
    "        round(sum(\"sales\"), 2).alias(\"total_sales\"),\n",
    "        sum(\"quantity\").alias(\"total_quantity\")\n",
    "    ).orderBy(\"year\", \"quarter\")\n",
    "\n",
    "df_quarterly.write.mode(\"overwrite\").saveAsTable(f\"{gold_catalog_name}.{gold_schema_name}.{gold_table_prefix}quarterly_metrics\")\n",
    "\n",
    "print(f\"Tabela {gold_catalog_name}.{gold_schema_name}.{gold_table_prefix}quarterly_metrics criada com sucesso!\")"
   ]
  },
  {
   "cell_type": "markdown",
   "metadata": {
    "application/vnd.databricks.v1+cell": {
     "cellMetadata": {},
     "inputWidgets": {},
     "nuid": "f7608b52-6a64-42a7-9a2c-7421b206d6e3",
     "showTitle": false,
     "tableResultSettingsMap": {},
     "title": ""
    }
   },
   "source": [
    "Visão agregada das vendas e quantidades por semestre, útil para análises sazonais em períodos mais amplos que trimestres, mas mais granulares que anos.\n",
    "\n"
   ]
  },
  {
   "cell_type": "code",
   "execution_count": 0,
   "metadata": {
    "application/vnd.databricks.v1+cell": {
     "cellMetadata": {
      "byteLimit": 2048000,
      "rowLimit": 10000
     },
     "inputWidgets": {},
     "nuid": "6f14ddd7-7c01-41dd-a2a8-b32a23037804",
     "showTitle": false,
     "tableResultSettingsMap": {},
     "title": ""
    }
   },
   "outputs": [],
   "source": [
    "# 3. Consulta: Métricas Semestrais\n",
    "df_semester = df.withColumn(\"year\", year(col(\"order_date\"))) \\\n",
    "    .withColumn(\"quarter\", quarter(col(\"order_date\"))) \\\n",
    "    .withColumn(\"semester\", when(col(\"quarter\").isin(1, 2), \"S1\").otherwise(\"S2\")) \\\n",
    "    .groupBy(\"year\", \"semester\").agg(\n",
    "        round(sum(\"sales\"), 2).alias(\"total_sales\"),\n",
    "        sum(\"quantity\").alias(\"total_quantity\")\n",
    "    ).orderBy(\"year\", \"semester\")\n",
    "\n",
    "df_semester.write.mode(\"overwrite\").saveAsTable(f\"{gold_catalog_name}.{gold_schema_name}.{gold_table_prefix}semester_metrics\")\n",
    "\n",
    "print(f\"Tabela {gold_catalog_name}.{gold_schema_name}.{gold_table_prefix}semester_metrics criada com sucesso!\")"
   ]
  },
  {
   "cell_type": "markdown",
   "metadata": {
    "application/vnd.databricks.v1+cell": {
     "cellMetadata": {},
     "inputWidgets": {},
     "nuid": "09133c41-2314-4dcc-9345-b837a6689e9d",
     "showTitle": false,
     "tableResultSettingsMap": {},
     "title": ""
    }
   },
   "source": [
    " Identificar os 5 produtos mais vendidos em termos de receita, além de mostrar suas quantidades vendidas e preço médio, útil para análises de desempenho de produtos.\n",
    "\n"
   ]
  },
  {
   "cell_type": "code",
   "execution_count": 0,
   "metadata": {
    "application/vnd.databricks.v1+cell": {
     "cellMetadata": {
      "byteLimit": 2048000,
      "rowLimit": 10000
     },
     "inputWidgets": {},
     "nuid": "9ef61b91-32ca-4b82-a7d5-8c334e81d4f1",
     "showTitle": false,
     "tableResultSettingsMap": {},
     "title": ""
    }
   },
   "outputs": [],
   "source": [
    "# 4. Consulta: Métricas por Produto\n",
    "df_product = df.groupBy(\"product_name\").agg(\n",
    "    round(sum(\"sales\"), 2).alias(\"total_sales\"),\n",
    "    sum(\"quantity\").alias(\"total_quantity\"),\n",
    "    round(avg(\"sales\"), 2).alias(\"avg_price\")\n",
    ").orderBy(col(\"total_sales\").desc()).limit(5)\n",
    "\n",
    "df_product.write.mode(\"overwrite\").saveAsTable(f\"{gold_catalog_name}.{gold_schema_name}.{gold_table_prefix}product_metrics\")\n",
    "\n",
    "print(f\"Tabela {gold_catalog_name}.{gold_schema_name}.{gold_table_prefix}product_metrics criada com sucesso!\")\n"
   ]
  },
  {
   "cell_type": "markdown",
   "metadata": {
    "application/vnd.databricks.v1+cell": {
     "cellMetadata": {},
     "inputWidgets": {},
     "nuid": "472f55fb-10f2-4227-800c-ee7a36b243ef",
     "showTitle": false,
     "tableResultSettingsMap": {},
     "title": ""
    }
   },
   "source": [
    " Identifica os 5 países com maior receita de vendas, além de suas quantidades vendidas e ticket médio, útil para análises de desempenho por mercado geográfico\n",
    "\n"
   ]
  },
  {
   "cell_type": "code",
   "execution_count": 0,
   "metadata": {
    "application/vnd.databricks.v1+cell": {
     "cellMetadata": {
      "byteLimit": 2048000,
      "rowLimit": 10000
     },
     "inputWidgets": {},
     "nuid": "44488089-f777-4a1a-b230-0111f69b1f75",
     "showTitle": false,
     "tableResultSettingsMap": {},
     "title": ""
    }
   },
   "outputs": [],
   "source": [
    "# 5. Consulta: Métricas por País\n",
    "df_country = df.groupBy(\"country\").agg(\n",
    "    round(sum(\"sales\"), 2).alias(\"total_sales\"),\n",
    "    sum(\"quantity\").alias(\"total_quantity\"),\n",
    "    round(avg(\"sales\"), 2).alias(\"avg_ticket\")\n",
    ").orderBy(col(\"total_sales\").desc()).limit(5)\n",
    "\n",
    "df_country.write.mode(\"overwrite\").saveAsTable(f\"{gold_catalog_name}.{gold_schema_name}.{gold_table_prefix}country_metrics\")\n",
    "\n",
    "print(f\"Tabela {gold_catalog_name}.{gold_schema_name}.{gold_table_prefix}country_metrics criada com sucesso!\")\n"
   ]
  },
  {
   "cell_type": "markdown",
   "metadata": {
    "application/vnd.databricks.v1+cell": {
     "cellMetadata": {},
     "inputWidgets": {},
     "nuid": "2053d1f8-6c6f-4d8d-9842-85a2eb95422e",
     "showTitle": false,
     "tableResultSettingsMap": {},
     "title": ""
    }
   },
   "source": [
    "Analisa o desempenho de vendas por categoria e subcategoria de produtos, permitindo identificar quais segmentos de produtos são mais lucrativos ou populares.\n",
    "\n"
   ]
  },
  {
   "cell_type": "code",
   "execution_count": 0,
   "metadata": {
    "application/vnd.databricks.v1+cell": {
     "cellMetadata": {
      "byteLimit": 2048000,
      "rowLimit": 10000
     },
     "inputWidgets": {},
     "nuid": "63e2ce4f-f453-490b-8ae7-3287ae7e57e9",
     "showTitle": false,
     "tableResultSettingsMap": {},
     "title": ""
    }
   },
   "outputs": [],
   "source": [
    "# 6. Consulta: Métricas por Categoria\n",
    "df_category = df.groupBy(\"category\", \"sub-category\").agg(\n",
    "    round(sum(\"sales\"), 2).alias(\"total_sales\"),\n",
    "    sum(\"quantity\").alias(\"total_quantity\")\n",
    ").orderBy(\"category\", \"sub-category\")\n",
    "\n",
    "df_category.write.mode(\"overwrite\").saveAsTable(f\"{gold_catalog_name}.{gold_schema_name}.{gold_table_prefix}category_metrics\")\n",
    "\n",
    "print(f\"Tabela {gold_catalog_name}.{gold_schema_name}.{gold_table_prefix}category_metrics criada com sucesso!\")"
   ]
  },
  {
   "cell_type": "code",
   "execution_count": 0,
   "metadata": {
    "application/vnd.databricks.v1+cell": {
     "cellMetadata": {
      "byteLimit": 2048000,
      "rowLimit": 10000
     },
     "inputWidgets": {},
     "nuid": "2dcc8b29-fa13-4e49-b1e4-1c85afdc7856",
     "showTitle": false,
     "tableResultSettingsMap": {},
     "title": ""
    }
   },
   "outputs": [],
   "source": [
    "# (\n",
    "#     df\n",
    "#     .write\n",
    "#     .format(\"delta\")\n",
    "#     .mode(\"overwrite\")\n",
    "#     .saveAsTable(f\"{dest_catalog_name}.{dest_database_name}.{dest_table_name}\")\n",
    "# )\n"
   ]
  },
  {
   "cell_type": "code",
   "execution_count": 0,
   "metadata": {
    "application/vnd.databricks.v1+cell": {
     "cellMetadata": {
      "byteLimit": 2048000,
      "rowLimit": 10000
     },
     "inputWidgets": {},
     "nuid": "048fb6ae-1660-4cff-b762-7c50f80477c9",
     "showTitle": false,
     "tableResultSettingsMap": {},
     "title": ""
    }
   },
   "outputs": [],
   "source": [
    "# display(\n",
    "#   spark\n",
    "#   .table(f\"{dest_catalog_name}.{dest_database_name}.{dest_table_name}\")\n",
    "#   .limit(10)\n",
    "# )"
   ]
  },
  {
   "cell_type": "code",
   "execution_count": 0,
   "metadata": {
    "application/vnd.databricks.v1+cell": {
     "cellMetadata": {},
     "inputWidgets": {},
     "nuid": "7ee00132-f088-4593-8392-2dfa397b8d50",
     "showTitle": false,
     "tableResultSettingsMap": {},
     "title": ""
    }
   },
   "outputs": [],
   "source": [
    "breakpointXXXX"
   ]
  }
 ],
 "metadata": {
  "application/vnd.databricks.v1+notebook": {
   "computePreferences": null,
   "dashboards": [],
   "environmentMetadata": {
    "base_environment": "",
    "environment_version": "2"
   },
   "inputWidgetPreferences": null,
   "language": "python",
   "notebookMetadata": {
    "mostRecentlyExecutedCommandWithImplicitDF": {
     "commandId": 8580149900704640,
     "dataframes": [
      "_sqldf"
     ]
    },
    "pythonIndentUnit": 4
   },
   "notebookName": "gold_global_superstore",
   "widgets": {}
  },
  "language_info": {
   "name": "python"
  }
 },
 "nbformat": 4,
 "nbformat_minor": 0
}
