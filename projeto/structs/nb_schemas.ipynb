{
 "cells": [
  {
   "cell_type": "code",
   "execution_count": 0,
   "metadata": {
    "application/vnd.databricks.v1+cell": {
     "cellMetadata": {
      "byteLimit": 2048000,
      "rowLimit": 10000
     },
     "inputWidgets": {},
     "nuid": "cb5c645d-6af5-472b-84cd-97941cfcf066",
     "showTitle": false,
     "tableResultSettingsMap": {},
     "title": ""
    }
   },
   "outputs": [],
   "source": [
    "from pyspark.sql.types import *\n",
    "\n",
    "_schemas = {\n",
    "    \"global-super-store-dataset\": {\n",
    "        \"schema\": StructType([StructField('Row ID', StringType(), True), StructField('Order ID', StringType(), True), StructField('Order Date', StringType(), True), StructField('Ship Date', StringType(), True), StructField('Ship Mode', StringType(), True), StructField('Customer ID', StringType(), True), StructField('Customer Name', StringType(), True), StructField('Segment', StringType(), True), StructField('City', StringType(), True), StructField('State', StringType(), True), StructField('Country', StringType(), True), StructField('Postal Code', StringType(), True), StructField('Market', StringType(), True), StructField('Region', StringType(), True), StructField('Product ID', StringType(), True), StructField('Category', StringType(), True), StructField('Sub-Category', StringType(), True), StructField('Product Name', StringType(), True), StructField('Sales', StringType(), True), StructField('Quantity', StringType(), True), StructField('Discount', StringType(), True), StructField('Profit', StringType(), True), StructField('Shipping Cost', StringType(), True), StructField('Order Priority', StringType(), True)]),\n",
    "        \"parameters\": {\n",
    "            \"src_api\": \"kaggle\",\n",
    "            \"src_api_dataset\": \"apoorvaappz/global-super-store-dataset\",\n",
    "            \"src_file_name_contains\": \"Global_Superstore2.csv\",\n",
    "            \"src_file_format\": \"csv\",\n",
    "            \"dest_catalog_name\": \"bronze\",\n",
    "            \"dest_schema_name\": \"ingestion\",\n",
    "            \"dest_table_name\": \"Global_Superstore\".lower()\n",
    "        },\n",
    "    }\n",
    "}\n"
   ]
  }
 ],
 "metadata": {
  "application/vnd.databricks.v1+notebook": {
   "computePreferences": null,
   "dashboards": [],
   "environmentMetadata": {
    "base_environment": "",
    "environment_version": "2"
   },
   "inputWidgetPreferences": null,
   "language": "python",
   "notebookMetadata": {
    "pythonIndentUnit": 4
   },
   "notebookName": "nb_schemas",
   "widgets": {}
  },
  "language_info": {
   "name": "python"
  }
 },
 "nbformat": 4,
 "nbformat_minor": 0
}
