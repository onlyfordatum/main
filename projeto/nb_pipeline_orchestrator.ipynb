{
 "cells": [
  {
   "cell_type": "markdown",
   "metadata": {
    "application/vnd.databricks.v1+cell": {
     "cellMetadata": {
      "byteLimit": 2048000,
      "rowLimit": 10000
     },
     "inputWidgets": {},
     "nuid": "3eba72b2-fc8c-4d68-8546-0b239ae76a6c",
     "showTitle": false,
     "tableResultSettingsMap": {},
     "title": ""
    }
   },
   "source": [
    "### Definição da Lista de Objetos para Ingestão\n",
    "\n",
    "O código abaixo define a lista de objetos a serem ingeridos no processo de análise de dados:\n",
    "\n"
   ]
  },
  {
   "cell_type": "code",
   "execution_count": 0,
   "metadata": {
    "application/vnd.databricks.v1+cell": {
     "cellMetadata": {
      "byteLimit": 2048000,
      "rowLimit": 10000
     },
     "inputWidgets": {},
     "nuid": "31ffc32e-5b01-4757-9781-6f4d0915462f",
     "showTitle": false,
     "tableResultSettingsMap": {},
     "title": ""
    }
   },
   "outputs": [],
   "source": [
    "# Define lista de objetos a ser ingeridos\n",
    "\n",
    "ingestion_objects = [\n",
    "    'global-super-store-dataset'\n",
    "]"
   ]
  },
  {
   "cell_type": "markdown",
   "metadata": {
    "application/vnd.databricks.v1+cell": {
     "cellMetadata": {
      "byteLimit": 2048000,
      "rowLimit": 10000
     },
     "inputWidgets": {},
     "nuid": "1faf9b04-3e77-4f9c-a6f1-2d35a43fd172",
     "showTitle": false,
     "tableResultSettingsMap": {},
     "title": ""
    }
   },
   "source": [
    "### Chama API do Kaggle e realiza a ingestao do dado\n",
    "##### Preparado para realizar ingestao de varios arquivos da mesma origem"
   ]
  },
  {
   "cell_type": "code",
   "execution_count": 0,
   "metadata": {
    "application/vnd.databricks.v1+cell": {
     "cellMetadata": {
      "byteLimit": 2048000,
      "rowLimit": 10000
     },
     "inputWidgets": {},
     "nuid": "376fc866-7362-40f8-91e7-a57a249212de",
     "showTitle": false,
     "tableResultSettingsMap": {},
     "title": ""
    }
   },
   "outputs": [],
   "source": [
    "# Chama API do Kaggle e realiza a ingestao do dado\n",
    "# Preparado para realizar ingestao de varios arquivos da mesma origem\n",
    "\n",
    "try:\n",
    "    for ingestion_object in ingestion_objects:\n",
    "        (\n",
    "            dbutils\n",
    "            .notebook\n",
    "            .run(\n",
    "                './ingestion/nb_ingestion_call_api', \n",
    "                 600, \n",
    "                 {'ingestion_object': ingestion_object}\n",
    "            )\n",
    "        )\n",
    "except Exception as e:\n",
    "    dbutils.notebook.exit(f'Error: {e}')"
   ]
  },
  {
   "cell_type": "markdown",
   "metadata": {
    "application/vnd.databricks.v1+cell": {
     "cellMetadata": {
      "byteLimit": 2048000,
      "rowLimit": 10000
     },
     "inputWidgets": {},
     "nuid": "d75132d3-8b7f-443c-aa2c-6e6cec03484f",
     "showTitle": false,
     "tableResultSettingsMap": {},
     "title": ""
    }
   },
   "source": [
    "# Bronze\n",
    "### Realiza ingestao dos arquivos da lista de objetos em camada bronze"
   ]
  },
  {
   "cell_type": "code",
   "execution_count": 0,
   "metadata": {
    "application/vnd.databricks.v1+cell": {
     "cellMetadata": {
      "byteLimit": 2048000,
      "rowLimit": 10000
     },
     "inputWidgets": {},
     "nuid": "51a2f4ad-33f4-4f15-830e-330145e103f4",
     "showTitle": false,
     "tableResultSettingsMap": {},
     "title": ""
    }
   },
   "outputs": [],
   "source": [
    "# Bronze\n",
    "# Realiza ingestao dos arquivos da lista de objetos em camada bronze\n",
    "\n",
    "try:\n",
    "    for ingestion_object in ingestion_objects:\n",
    "        (\n",
    "            dbutils\n",
    "            .notebook\n",
    "            .run(\n",
    "                './medalion/bronze/nb_bronze', \n",
    "                600, \n",
    "                {'ingestion_object': ingestion_object}\n",
    "            )\n",
    "        )\n",
    "except Exception as e:\n",
    "    dbutils.notebook.exit(f'Error: {e}')"
   ]
  },
  {
   "cell_type": "markdown",
   "metadata": {
    "application/vnd.databricks.v1+cell": {
     "cellMetadata": {
      "byteLimit": 2048000,
      "rowLimit": 10000
     },
     "inputWidgets": {},
     "nuid": "3c7f4bd0-ea5c-41ad-8da7-65248aefdff9",
     "showTitle": false,
     "tableResultSettingsMap": {},
     "title": ""
    }
   },
   "source": [
    "# Silver\n",
    "### Realiza transformação para tratar dados para a camada Silver Refined"
   ]
  },
  {
   "cell_type": "code",
   "execution_count": 0,
   "metadata": {
    "application/vnd.databricks.v1+cell": {
     "cellMetadata": {
      "byteLimit": 2048000,
      "rowLimit": 10000
     },
     "inputWidgets": {},
     "nuid": "030dbda0-f473-44d8-9a3a-b65282f8d5a0",
     "showTitle": false,
     "tableResultSettingsMap": {},
     "title": ""
    }
   },
   "outputs": [],
   "source": [
    "# Silver\n",
    "# Realiza transformação para tratar dados para a camada Silver Refined\n",
    "\n",
    "try:\n",
    "    (\n",
    "        dbutils\n",
    "        .notebook\n",
    "        .run(\n",
    "            './medalion/silver/nb_silver_global_superstore', \n",
    "            600, \n",
    "            {'ingestion_object': ingestion_object}\n",
    "        )\n",
    "    )\n",
    "except Exception as e:\n",
    "    dbutils.notebook.exit(f'Error: {e}')"
   ]
  },
  {
   "cell_type": "code",
   "execution_count": 0,
   "metadata": {
    "application/vnd.databricks.v1+cell": {
     "cellMetadata": {
      "byteLimit": 2048000,
      "rowLimit": 10000
     },
     "inputWidgets": {},
     "nuid": "b6aae36a-f2fe-4ca3-a24c-6d108cc680de",
     "showTitle": false,
     "tableResultSettingsMap": {},
     "title": ""
    }
   },
   "outputs": [],
   "source": [
    "# try:\n",
    "#     dbutils.notebook.run('./gold_video_games_sales', 600)\n",
    "# except Exception as e:\n",
    "#     dbutils.notebook.exit(f'Error: {e}')"
   ]
  }
 ],
 "metadata": {
  "application/vnd.databricks.v1+notebook": {
   "computePreferences": null,
   "dashboards": [],
   "environmentMetadata": {
    "base_environment": "",
    "environment_version": "2"
   },
   "inputWidgetPreferences": null,
   "language": "python",
   "notebookMetadata": {
    "mostRecentlyExecutedCommandWithImplicitDF": {
     "commandId": 7029652542106286,
     "dataframes": [
      "_sqldf"
     ]
    },
    "pythonIndentUnit": 4
   },
   "notebookName": "nb_pipeline_orchestrator",
   "widgets": {}
  },
  "language_info": {
   "name": "python"
  }
 },
 "nbformat": 4,
 "nbformat_minor": 0
}
