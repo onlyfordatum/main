{
 "cells": [
  {
   "cell_type": "code",
   "execution_count": 0,
   "metadata": {
    "application/vnd.databricks.v1+cell": {
     "cellMetadata": {
      "byteLimit": 2048000,
      "rowLimit": 10000
     },
     "inputWidgets": {},
     "nuid": "e51b2e25-a1d2-4fb9-bf99-58c476c48721",
     "showTitle": false,
     "tableResultSettingsMap": {},
     "title": ""
    }
   },
   "outputs": [],
   "source": [
    "from pyspark.sql import functions as f\n",
    "from pyspark.sql.types import *\n",
    "from datetime import datetime\n",
    "import pytz"
   ]
  },
  {
   "cell_type": "code",
   "execution_count": 0,
   "metadata": {
    "application/vnd.databricks.v1+cell": {
     "cellMetadata": {
      "byteLimit": 2048000,
      "rowLimit": 10000
     },
     "inputWidgets": {},
     "nuid": "34b06818-0e21-4ef3-b2b8-76ec0675be5c",
     "showTitle": false,
     "tableResultSettingsMap": {},
     "title": ""
    }
   },
   "outputs": [],
   "source": [
    "dest_catalog_name   = 'bronze'\n",
    "dest_database_name  = 'ingestion'\n",
    "dest_table_name     = 'video_games_sales'\n",
    "\n",
    "\n",
    "print(f\"\"\" > dest_catalog_name:   {dest_catalog_name}\"\"\")\n",
    "print(f\"\"\" > dest_database_name:  {dest_database_name}\"\"\")\n",
    "print(f\"\"\" > dest_table_name:     {dest_table_name}\"\"\")"
   ]
  },
  {
   "cell_type": "code",
   "execution_count": 0,
   "metadata": {
    "application/vnd.databricks.v1+cell": {
     "cellMetadata": {
      "byteLimit": 2048000,
      "rowLimit": 10000
     },
     "inputWidgets": {},
     "nuid": "0fb5c0b7-fb6d-41d7-8622-d2fcc6061e52",
     "showTitle": false,
     "tableResultSettingsMap": {},
     "title": ""
    }
   },
   "outputs": [],
   "source": [
    "ingestion_timestamp = datetime.now(pytz.timezone('America/Sao_Paulo')).strftime('%Y%m%d%H%M%S')\n",
    "print(f\"\"\"ingestion_timestamp: {ingestion_timestamp}\"\"\")\n",
    "print(type(ingestion_timestamp))"
   ]
  },
  {
   "cell_type": "code",
   "execution_count": 0,
   "metadata": {
    "application/vnd.databricks.v1+cell": {
     "cellMetadata": {
      "byteLimit": 2048000,
      "rowLimit": 10000
     },
     "inputWidgets": {},
     "nuid": "04347496-ad31-472a-82f3-1d65a6ee1bef",
     "showTitle": false,
     "tableResultSettingsMap": {},
     "title": ""
    }
   },
   "outputs": [],
   "source": [
    "file_name_contains = 'Video_Games_Sales'\n",
    "for file in dbutils.fs.ls('/Volumes/workspace/default/landing_zone/'):\n",
    "    if file.name.__contains__(file_name_contains):\n",
    "        source_file = file.path.replace(\"dbfs:\",\"\")\n",
    "        print(source_file)"
   ]
  },
  {
   "cell_type": "code",
   "execution_count": 0,
   "metadata": {
    "application/vnd.databricks.v1+cell": {
     "cellMetadata": {
      "byteLimit": 2048000,
      "rowLimit": 10000
     },
     "inputWidgets": {},
     "nuid": "9637fb37-368a-4817-9989-c8a78c8df84c",
     "showTitle": false,
     "tableResultSettingsMap": {},
     "title": ""
    }
   },
   "outputs": [],
   "source": [
    "struct = StructType([StructField('Name', StringType(), True), StructField('Platform', StringType(), True), StructField('Year_of_Release', StringType(), True), StructField('Genre', StringType(), True), StructField('Publisher', StringType(), True), StructField('NA_Sales', StringType(), True), StructField('EU_Sales', StringType(), True), StructField('JP_Sales', StringType(), True), StructField('Other_Sales', StringType(), True), StructField('Global_Sales', StringType(), True), StructField('Critic_Score', StringType(), True), StructField('Critic_Count', StringType(), True), StructField('User_Score', StringType(), True), StructField('User_Count', StringType(), True), StructField('Developer', StringType(), True), StructField('Rating', StringType(), True)])"
   ]
  },
  {
   "cell_type": "code",
   "execution_count": 0,
   "metadata": {
    "application/vnd.databricks.v1+cell": {
     "cellMetadata": {
      "byteLimit": 2048000,
      "rowLimit": 10000
     },
     "inputWidgets": {},
     "nuid": "d0af8bed-bb48-4e80-9626-4359607df21e",
     "showTitle": false,
     "tableResultSettingsMap": {},
     "title": ""
    }
   },
   "outputs": [],
   "source": [
    "df = (\n",
    "    spark\n",
    "    .read\n",
    "    .format(\"csv\")\n",
    "    .option('sep', ',')\n",
    "    .option('header', 'true')\n",
    "    .schema(struct)\n",
    "    .load(source_file)\n",
    ")\n",
    "\n",
    "df = df.withColumn(\"ingestion_timestamp\", f.lit(ingestion_timestamp).cast('long'))\n",
    "\n",
    "#display(df.limit(10))"
   ]
  },
  {
   "cell_type": "code",
   "execution_count": 0,
   "metadata": {
    "application/vnd.databricks.v1+cell": {
     "cellMetadata": {
      "byteLimit": 2048000,
      "rowLimit": 10000
     },
     "inputWidgets": {},
     "nuid": "c7bca994-21f6-4fc9-9eae-99992eb88e54",
     "showTitle": false,
     "tableResultSettingsMap": {},
     "title": ""
    }
   },
   "outputs": [],
   "source": [
    "spark.sql(f\"CREATE CATALOG if NOT EXISTS {dest_catalog_name}\")"
   ]
  },
  {
   "cell_type": "code",
   "execution_count": 0,
   "metadata": {
    "application/vnd.databricks.v1+cell": {
     "cellMetadata": {
      "byteLimit": 2048000,
      "rowLimit": 10000
     },
     "inputWidgets": {},
     "nuid": "280e8927-7c0a-4b0e-ad2c-87a126558044",
     "showTitle": false,
     "tableResultSettingsMap": {},
     "title": ""
    }
   },
   "outputs": [],
   "source": [
    "spark.sql(f\"CREATE SCHEMA if not EXISTS {dest_catalog_name}.{dest_database_name}\")"
   ]
  },
  {
   "cell_type": "code",
   "execution_count": 0,
   "metadata": {
    "application/vnd.databricks.v1+cell": {
     "cellMetadata": {
      "byteLimit": 2048000,
      "rowLimit": 10000
     },
     "inputWidgets": {},
     "nuid": "2dcc8b29-fa13-4e49-b1e4-1c85afdc7856",
     "showTitle": false,
     "tableResultSettingsMap": {},
     "title": ""
    }
   },
   "outputs": [],
   "source": [
    "(\n",
    "    df\n",
    "    .write\n",
    "    .format(\"delta\")\n",
    "    .mode(\"append\")\n",
    "    .saveAsTable(f\"{dest_catalog_name}.{dest_database_name}.{dest_table_name}\")\n",
    ")"
   ]
  },
  {
   "cell_type": "code",
   "execution_count": 0,
   "metadata": {
    "application/vnd.databricks.v1+cell": {
     "cellMetadata": {
      "byteLimit": 2048000,
      "rowLimit": 10000
     },
     "inputWidgets": {},
     "nuid": "048fb6ae-1660-4cff-b762-7c50f80477c9",
     "showTitle": false,
     "tableResultSettingsMap": {},
     "title": ""
    }
   },
   "outputs": [],
   "source": [
    "# display(\n",
    "#   spark\n",
    "#   .table(f\"{dest_catalog_name}.{dest_database_name}.{dest_tabele_name}\")\n",
    "#   .limit(10)\n",
    "# )"
   ]
  },
  {
   "cell_type": "code",
   "execution_count": 0,
   "metadata": {
    "application/vnd.databricks.v1+cell": {
     "cellMetadata": {
      "byteLimit": 2048000,
      "rowLimit": 10000
     },
     "inputWidgets": {},
     "nuid": "47324f8c-dc18-4cfe-820b-56533f08a7eb",
     "showTitle": false,
     "tableResultSettingsMap": {},
     "title": ""
    }
   },
   "outputs": [],
   "source": [
    "#remove source file\n",
    "dbutils.fs.rm(source_file)\n"
   ]
  },
  {
   "cell_type": "code",
   "execution_count": 0,
   "metadata": {
    "application/vnd.databricks.v1+cell": {
     "cellMetadata": {
      "byteLimit": 2048000,
      "rowLimit": 10000
     },
     "inputWidgets": {},
     "nuid": "e817f13a-330c-4bdc-b054-9f44e2e1c3db",
     "showTitle": false,
     "tableResultSettingsMap": {},
     "title": ""
    }
   },
   "outputs": [],
   "source": [
    "# spark.sql( 'DROP TABLE IF EXISTS bronze.ingestion.video_games_sales' )"
   ]
  }
 ],
 "metadata": {
  "application/vnd.databricks.v1+notebook": {
   "computePreferences": null,
   "dashboards": [],
   "environmentMetadata": {
    "base_environment": "",
    "environment_version": "2"
   },
   "inputWidgetPreferences": null,
   "language": "python",
   "notebookMetadata": {
    "mostRecentlyExecutedCommandWithImplicitDF": {
     "commandId": 8580149900704640,
     "dataframes": [
      "_sqldf"
     ]
    },
    "pythonIndentUnit": 4
   },
   "notebookName": "bronze_video_games_sales",
   "widgets": {}
  },
  "language_info": {
   "name": "python"
  }
 },
 "nbformat": 4,
 "nbformat_minor": 0
}
