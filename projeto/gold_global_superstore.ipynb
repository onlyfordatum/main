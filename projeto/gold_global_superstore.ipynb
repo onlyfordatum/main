{
 "cells": [
  {
   "cell_type": "code",
   "execution_count": 0,
   "metadata": {
    "application/vnd.databricks.v1+cell": {
     "cellMetadata": {
      "byteLimit": 2048000,
      "rowLimit": 10000
     },
     "inputWidgets": {},
     "nuid": "e51b2e25-a1d2-4fb9-bf99-58c476c48721",
     "showTitle": false,
     "tableResultSettingsMap": {},
     "title": ""
    }
   },
   "outputs": [],
   "source": [
    "from pyspark.sql import functions as f\n",
    "from pyspark.sql.types import *"
   ]
  },
  {
   "cell_type": "code",
   "execution_count": 0,
   "metadata": {
    "application/vnd.databricks.v1+cell": {
     "cellMetadata": {
      "byteLimit": 2048000,
      "rowLimit": 10000
     },
     "inputWidgets": {},
     "nuid": "34b06818-0e21-4ef3-b2b8-76ec0675be5c",
     "showTitle": false,
     "tableResultSettingsMap": {},
     "title": ""
    }
   },
   "outputs": [],
   "source": [
    "source_catalog_name     = 'silver'\n",
    "source_database_name    = 'refined'\n",
    "source_table_name       = 'video_games_sales'\n",
    "\n",
    "dest_catalog_name       = 'gold'\n",
    "dest_database_name      = 'report'\n",
    "dest_table_name         = 'video_games_sales'\n",
    "\n",
    "print(f\"\"\" > source_catalog_name:  {source_catalog_name}\"\"\")\n",
    "print(f\"\"\" > source_database_name: {source_database_name}\"\"\")\n",
    "print(f\"\"\" > source_table_name:    {source_table_name}\"\"\")\n",
    "print()\n",
    "print(f\"\"\" > dest_catalog_name:    {dest_catalog_name}\"\"\")\n",
    "print(f\"\"\" > dest_database_name:   {dest_database_name}\"\"\")\n",
    "print(f\"\"\" > dest_table_name:      {dest_table_name}\"\"\")"
   ]
  },
  {
   "cell_type": "code",
   "execution_count": 0,
   "metadata": {
    "application/vnd.databricks.v1+cell": {
     "cellMetadata": {
      "byteLimit": 2048000,
      "rowLimit": 10000
     },
     "inputWidgets": {},
     "nuid": "e57fddc6-659d-4f23-bca6-4db0697ab1a8",
     "showTitle": false,
     "tableResultSettingsMap": {},
     "title": ""
    }
   },
   "outputs": [],
   "source": [
    "spark.sql(f\"CREATE CATALOG if NOT EXISTS {dest_catalog_name}\")\n",
    "spark.sql(f\"CREATE SCHEMA if NOT EXISTS {dest_catalog_name}.{dest_database_name}\")"
   ]
  },
  {
   "cell_type": "code",
   "execution_count": 0,
   "metadata": {
    "application/vnd.databricks.v1+cell": {
     "cellMetadata": {
      "byteLimit": 2048000,
      "rowLimit": 10000
     },
     "inputWidgets": {},
     "nuid": "d0af8bed-bb48-4e80-9626-4359607df21e",
     "showTitle": false,
     "tableResultSettingsMap": {},
     "title": ""
    }
   },
   "outputs": [],
   "source": [
    "df = (\n",
    "    spark\n",
    "    .table(f\"{dest_catalog_name}.{dest_database_name}.{dest_table_name}\")\n",
    "    # .filter(f\"ingestion_timestamp = {filter_max}\")\n",
    ")\n",
    "\n",
    "display(df)"
   ]
  },
  {
   "cell_type": "code",
   "execution_count": 0,
   "metadata": {
    "application/vnd.databricks.v1+cell": {
     "cellMetadata": {
      "byteLimit": 2048000,
      "rowLimit": 10000
     },
     "inputWidgets": {},
     "nuid": "2dcc8b29-fa13-4e49-b1e4-1c85afdc7856",
     "showTitle": false,
     "tableResultSettingsMap": {},
     "title": ""
    }
   },
   "outputs": [],
   "source": [
    "# (\n",
    "#     df\n",
    "#     .write\n",
    "#     .format(\"delta\")\n",
    "#     .mode(\"overwrite\")\n",
    "#     .saveAsTable(f\"{dest_catalog_name}.{dest_database_name}.{dest_table_name}\")\n",
    "# )\n"
   ]
  },
  {
   "cell_type": "code",
   "execution_count": 0,
   "metadata": {
    "application/vnd.databricks.v1+cell": {
     "cellMetadata": {
      "byteLimit": 2048000,
      "rowLimit": 10000
     },
     "inputWidgets": {},
     "nuid": "048fb6ae-1660-4cff-b762-7c50f80477c9",
     "showTitle": false,
     "tableResultSettingsMap": {},
     "title": ""
    }
   },
   "outputs": [],
   "source": [
    "# display(\n",
    "#   spark\n",
    "#   .table(f\"{dest_catalog_name}.{dest_database_name}.{dest_table_name}\")\n",
    "#   .limit(10)\n",
    "# )"
   ]
  }
 ],
 "metadata": {
  "application/vnd.databricks.v1+notebook": {
   "computePreferences": null,
   "dashboards": [],
   "environmentMetadata": {
    "base_environment": "",
    "environment_version": "2"
   },
   "inputWidgetPreferences": null,
   "language": "python",
   "notebookMetadata": {
    "mostRecentlyExecutedCommandWithImplicitDF": {
     "commandId": 8580149900704640,
     "dataframes": [
      "_sqldf"
     ]
    },
    "pythonIndentUnit": 4
   },
   "notebookName": "gold_global_superstore",
   "widgets": {}
  },
  "language_info": {
   "name": "python"
  }
 },
 "nbformat": 4,
 "nbformat_minor": 0
}
