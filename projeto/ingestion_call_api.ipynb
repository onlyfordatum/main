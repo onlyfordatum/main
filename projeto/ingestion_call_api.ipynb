{
 "cells": [
  {
   "cell_type": "code",
   "execution_count": 0,
   "metadata": {
    "application/vnd.databricks.v1+cell": {
     "cellMetadata": {
      "byteLimit": 2048000,
      "rowLimit": 10000
     },
     "inputWidgets": {},
     "nuid": "5dc88ab8-5089-420d-ad26-6de44196c8d2",
     "showTitle": false,
     "tableResultSettingsMap": {},
     "title": ""
    }
   },
   "outputs": [],
   "source": [
    "%pip install kaggle"
   ]
  },
  {
   "cell_type": "code",
   "execution_count": 0,
   "metadata": {
    "application/vnd.databricks.v1+cell": {
     "cellMetadata": {
      "byteLimit": 2048000,
      "rowLimit": 10000
     },
     "inputWidgets": {},
     "nuid": "8565ac79-812a-4013-bdf7-2f9793bdb246",
     "showTitle": false,
     "tableResultSettingsMap": {},
     "title": ""
    }
   },
   "outputs": [],
   "source": [
    "dbutils.library.restartPython()"
   ]
  },
  {
   "cell_type": "code",
   "execution_count": 0,
   "metadata": {
    "application/vnd.databricks.v1+cell": {
     "cellMetadata": {
      "byteLimit": 2048000,
      "rowLimit": 10000
     },
     "inputWidgets": {},
     "nuid": "e51b2e25-a1d2-4fb9-bf99-58c476c48721",
     "showTitle": false,
     "tableResultSettingsMap": {},
     "title": ""
    }
   },
   "outputs": [],
   "source": [
    "import os\n",
    "import shutil"
   ]
  },
  {
   "cell_type": "code",
   "execution_count": 0,
   "metadata": {
    "application/vnd.databricks.v1+cell": {
     "cellMetadata": {
      "byteLimit": 2048000,
      "rowLimit": 10000
     },
     "inputWidgets": {},
     "nuid": "18ee9653-c228-4be3-8c19-cb8b07bfcd01",
     "showTitle": false,
     "tableResultSettingsMap": {},
     "title": ""
    }
   },
   "outputs": [],
   "source": [
    "%run /Workspace/Users/onlyfordatum@outlook.com/dev/projeto/schemas"
   ]
  },
  {
   "cell_type": "code",
   "execution_count": 0,
   "metadata": {
    "application/vnd.databricks.v1+cell": {
     "cellMetadata": {
      "byteLimit": 2048000,
      "rowLimit": 10000
     },
     "inputWidgets": {},
     "nuid": "e45a488b-db99-4360-9233-a140a0b9e5e3",
     "showTitle": false,
     "tableResultSettingsMap": {},
     "title": ""
    }
   },
   "outputs": [],
   "source": [
    "\n",
    "\n",
    "schema_config = _schemas[dbutils.widgets.get(\"ingestion_object\")]\n",
    "\n",
    "schema = schema_config[\"schema\"]\n",
    "params = schema_config[\"parameters\"]\n",
    "\n",
    "src_api                 = params[\"src_api\"]\n",
    "src_api_dataset         = params[\"src_api_dataset\"]\n",
    "src_file_name_contains  = params[\"src_file_name_contains\"]\n",
    "src_file_format         = params[\"src_file_format\"]\n",
    "\n",
    "dest_catalog_name       = params[\"dest_catalog_name\"]\n",
    "dest_schema_name        = params[\"dest_schema_name\"]\n",
    "dest_table_name         = params[\"dest_table_name\"]\n",
    "\n",
    "\n",
    "print(f\"\"\"schema: {schema}\"\"\")\n",
    "print()\n",
    "\n",
    "print(f\"\"\"src_api:                  '{src_api}'\"\"\")\n",
    "print(f\"\"\"src_api_dataset:          '{src_api_dataset}'\"\"\")\n",
    "print(f\"\"\"src_file_name_contains:   '{src_file_name_contains}'\"\"\")\n",
    "print(f\"\"\"src_file_format:          '{src_file_format}'\"\"\")\n",
    "print()\n",
    "print(f\"\"\"dest_catalog_name:        '{dest_catalog_name}'\"\"\")\n",
    "print(f\"\"\"dest_schema_name:         '{dest_schema_name}'\"\"\")\n",
    "print(f\"\"\"dest_table_name:          '{dest_table_name}'\"\"\")\n"
   ]
  },
  {
   "cell_type": "code",
   "execution_count": 0,
   "metadata": {
    "application/vnd.databricks.v1+cell": {
     "cellMetadata": {
      "byteLimit": 2048000,
      "rowLimit": 10000
     },
     "inputWidgets": {},
     "nuid": "49d18ad8-61e6-4176-90a3-40d61f4ae37a",
     "showTitle": false,
     "tableResultSettingsMap": {},
     "title": ""
    }
   },
   "outputs": [],
   "source": [
    "kaggle_dir = os.path.expanduser(f\"~/.{src_api}\")\n",
    "print(f\"\"\"kaggle_dir_raiz:      {kaggle_dir}\"\"\")\n",
    "\n",
    "os.makedirs(kaggle_dir, exist_ok=True)\n",
    "print(f\"\"\"kaggle_dir_destino:   {kaggle_dir}\"\"\")"
   ]
  },
  {
   "cell_type": "code",
   "execution_count": 0,
   "metadata": {
    "application/vnd.databricks.v1+cell": {
     "cellMetadata": {
      "byteLimit": 2048000,
      "rowLimit": 10000
     },
     "inputWidgets": {},
     "nuid": "7c7ce10b-d0f2-4049-a062-7875d2deb659",
     "showTitle": false,
     "tableResultSettingsMap": {},
     "title": ""
    }
   },
   "outputs": [],
   "source": [
    "source_path         = f\"/Volumes/workspace/default/landing_zone/{src_api}.json\"\n",
    "destination_path    = os.path.join(kaggle_dir, f\"{src_api}.json\")\n",
    "\n",
    "print(f\"\"\" > source_path:       {source_path}\"\"\")\n",
    "print(f\"\"\" > destination_path:  {destination_path}\"\"\")"
   ]
  },
  {
   "cell_type": "code",
   "execution_count": 0,
   "metadata": {
    "application/vnd.databricks.v1+cell": {
     "cellMetadata": {
      "byteLimit": 2048000,
      "rowLimit": 10000
     },
     "inputWidgets": {},
     "nuid": "df309725-2701-4896-a6e9-c2dfda4c0290",
     "showTitle": false,
     "tableResultSettingsMap": {},
     "title": ""
    }
   },
   "outputs": [],
   "source": [
    "try:\n",
    "    shutil.copy(source_path, destination_path)\n",
    "    print(f\"Arquivo '{source_path}' \\ncopiado para '{destination_path}' com sucesso.\")\n",
    "    # Ajustar permissões para segurança (importante!)\n",
    "    os.chmod(destination_path, 0o600) # Permissões de leitura/escrita apenas para o proprietário\n",
    "    print(f\"Permissões de '{destination_path}' ajustadas para 0o600.\")\n",
    "except FileNotFoundError:\n",
    "    print(f\"Erro: O arquivo de origem '{source_path}' não foi encontrado.\")\n",
    "except Exception as e:\n",
    "    print(f\"Ocorreu um erro ao copiar o arquivo: {e}\")"
   ]
  },
  {
   "cell_type": "code",
   "execution_count": 0,
   "metadata": {
    "application/vnd.databricks.v1+cell": {
     "cellMetadata": {
      "byteLimit": 2048000,
      "rowLimit": 10000
     },
     "inputWidgets": {},
     "nuid": "32fa7ed9-16c6-44ac-a1b1-bd7292ec9da0",
     "showTitle": false,
     "tableResultSettingsMap": {},
     "title": ""
    }
   },
   "outputs": [],
   "source": [
    "from kaggle.api.kaggle_api_extended import KaggleApi\n",
    "api = KaggleApi()\n",
    "api.authenticate()"
   ]
  },
  {
   "cell_type": "code",
   "execution_count": 0,
   "metadata": {
    "application/vnd.databricks.v1+cell": {
     "cellMetadata": {
      "byteLimit": 2048000,
      "rowLimit": 10000
     },
     "inputWidgets": {},
     "nuid": "81bb6ba7-5190-4f32-9973-3639f6d8631f",
     "showTitle": false,
     "tableResultSettingsMap": {},
     "title": ""
    }
   },
   "outputs": [],
   "source": [
    "# Baixar o dataset\n",
    "api.dataset_download_files(src_api_dataset, path=\"/Volumes/workspace/default/landing_zone/\", unzip=True)"
   ]
  },
  {
   "cell_type": "code",
   "execution_count": 0,
   "metadata": {
    "application/vnd.databricks.v1+cell": {
     "cellMetadata": {
      "byteLimit": 2048000,
      "rowLimit": 10000
     },
     "inputWidgets": {},
     "nuid": "b1dc1495-13cf-4e77-80f9-9ead077e4bec",
     "showTitle": false,
     "tableResultSettingsMap": {},
     "title": ""
    }
   },
   "outputs": [],
   "source": [
    "display(\n",
    "    dbutils.fs.ls('/Volumes/workspace/default/landing_zone/')\n",
    ")"
   ]
  },
  {
   "cell_type": "code",
   "execution_count": 0,
   "metadata": {
    "application/vnd.databricks.v1+cell": {
     "cellMetadata": {
      "byteLimit": 2048000,
      "rowLimit": 10000
     },
     "inputWidgets": {},
     "nuid": "4ff1825b-cd7c-41d5-96f0-7e4df71902d0",
     "showTitle": false,
     "tableResultSettingsMap": {},
     "title": ""
    }
   },
   "outputs": [],
   "source": [
    "#dbutils.fs.rm('dbfs:/Volumes/workspace/default/landing_zone/retail_sales_dataset.csv')\n"
   ]
  }
 ],
 "metadata": {
  "application/vnd.databricks.v1+notebook": {
   "computePreferences": null,
   "dashboards": [],
   "environmentMetadata": {
    "base_environment": "",
    "environment_version": "2"
   },
   "inputWidgetPreferences": null,
   "language": "python",
   "notebookMetadata": {
    "mostRecentlyExecutedCommandWithImplicitDF": {
     "commandId": 8580149900704640,
     "dataframes": [
      "_sqldf"
     ]
    },
    "pythonIndentUnit": 4
   },
   "notebookName": "ingestion_call_api",
   "widgets": {}
  },
  "language_info": {
   "name": "python"
  }
 },
 "nbformat": 4,
 "nbformat_minor": 0
}
